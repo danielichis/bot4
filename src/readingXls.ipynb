{
 "cells": [
  {
   "cell_type": "code",
   "execution_count": null,
   "metadata": {},
   "outputs": [],
   "source": [
    "import xlrd\n",
    "\n",
    "# Open the workbook and select the first worksheet\n",
    "wb = xlrd.open_workbook(r'C:\\DanielBots\\bot4\\descargas\\52906_arceoCajaBs.xls')\n",
    "#sh = wb.sheet_by_index(0)\n",
    "sh = wb.sheet_by_index(0)\n",
    "print(\"{0} {1} {2}\".format(sh.name, sh.nrows, sh.ncols))\n",
    "\n",
    "for rx in range(sh.nrows):\n",
    "    for cx in range(sh.ncols):\n",
    "        print(sh.cell_value(rx, cx), end=' ')\n",
    "    #print(sh.row(rx))\n"
   ]
  },
  {
   "cell_type": "code",
   "execution_count": 1,
   "metadata": {},
   "outputs": [],
   "source": []
  },
  {
   "cell_type": "code",
   "execution_count": null,
   "metadata": {},
   "outputs": [],
   "source": [
    "ventasEfectuadas={}\n",
    "ventasEfectuadas[\"alContado\"]={}\n",
    "ventasEfectuadas[\"alContado\"][\"Bs\"]=\"\"\n",
    "ventasEfectuadas[\"alContado\"][\"Us\"]=\"\"\n",
    "ventasEfectuadas[\"alCredito\"]={}\n",
    "ventasEfectuadas[\"alCredito\"][\"Bs\"]=\"\"\n",
    "ventasEfectuadas[\"alCredito\"][\"Us\"]=\"\"\n",
    "ventasEfectuadas[\"total\"]={}\n",
    "ventasEfectuadas[\"total\"][\"Bs\"]=\"\"\n",
    "ventasEfectuadas[\"total\"][\"Us\"]=\"\"\n",
    "ventasEfectuadas[\"totalEfectivo\"][\"Us\"]=\"\"\n",
    "ventasEfectuadas[\"totalEfectivo\"][\"Eq Bs\"]=\"\"\n",
    "\n",
    "voucherTarjetas={}\n",
    "voucherTarjetas[\"Bs.\"]\n",
    "voucherTarjetas[\"Fecha\"]\n",
    "voucherTarjetas[\"Nro. Ref\"]\n",
    "voucherTarjetas[\"Nro. Cl\"]\n",
    "\n",
    "vales={}\n"
   ]
  },
  {
   "cell_type": "code",
   "execution_count": null,
   "metadata": {},
   "outputs": [],
   "source": [
    "dataxlsFiles={}\n",
    "dataxlsFiles[\"Agencia\"]={}\n",
    "\n",
    "dataxlsFiles[\"Agencia\"][\"VentasEfectuadas\"]={}\n",
    "dataxlsFiles[\"Agencia\"][\"VentasEfectuadas\"][\"alContado\"]={}\n",
    "dataxlsFiles[\"Agencia\"][\"VentasEfectuadas\"][\"alContado\"][\"Bs\"]=\"1\"\n",
    "dataxlsFiles[\"Agencia\"][\"VentasEfectuadas\"][\"alContado\"][\"Us\"]=\"2\"\n",
    "dataxlsFiles[\"Agencia\"][\"VentasEfectuadas\"][\"alCredito\"]={}\n",
    "dataxlsFiles[\"Agencia\"][\"VentasEfectuadas\"][\"alCredito\"][\"Bs\"]=\"3\"\n",
    "dataxlsFiles[\"Agencia\"][\"VentasEfectuadas\"][\"alCredito\"][\"Us\"]=\"4\"\n",
    "\n",
    "dataxlsFiles[\"Agencia\"][\"VentasEfectuadas\"][\"total\"]={}\n",
    "dataxlsFiles[\"Agencia\"][\"VentasEfectuadas\"][\"total\"][\"Bs\"]=\"\"\n",
    "dataxlsFiles[\"Agencia\"][\"VentasEfectuadas\"][\"total\"][\"Us\"]=\"\"\n",
    "\n",
    "dataxlsFiles[\"Agencia\"][\"VentasEfectuadas\"][\"totalEfectivo\"]={}\n",
    "dataxlsFiles[\"Agencia\"][\"VentasEfectuadas\"][\"totalEfectivo\"][\"Us\"]=\"\"\n",
    "dataxlsFiles[\"Agencia\"][\"VentasEfectuadas\"][\"totalEfectivo\"][\"Eq Bs\"]=\"\"\n",
    "\n",
    "dataxlsFiles[\"Agencia\"][\"VoucherTarjetas\"]={}\n",
    "dataxlsFiles[\"Agencia\"][\"VoucherTarjetas\"][\"Bs.\"]=\"\"\n",
    "dataxlsFiles[\"Agencia\"][\"VoucherTarjetas\"][\"Fecha\"]=\"\"\n",
    "dataxlsFiles[\"Agencia\"][\"VoucherTarjetas\"][\"Nro. Ref\"]=\"\"\n",
    "dataxlsFiles[\"Agencia\"][\"VoucherTarjetas\"][\"Nro. Cl\"]=\"\"\n",
    "dataxlsFiles[\"Agencia\"][\"Vales\"]={}\n",
    "dataxlsFiles[\"Agencia\"][\"Vales\"][\"Bs.\"]=\"\"\n",
    "dataxlsFiles[\"Agencia\"][\"Vales\"][\"Cantidad\"]=\"\"\n",
    "dataxlsFiles[\"Agencia\"][\"Vales\"][\"Cliente\"]=\"\"\n",
    "dataxlsFiles[\"Agencia\"][\"Vales\"][\"Bs\"]=\"\"\n",
    "\n",
    "dataxlsFiles[\"Agencia\"][\"depositoFijo\"]={}\n",
    "dataxlsFiles[\"Agencia\"][\"depositoFijo\"][\"fecha\"]=\"\"\n",
    "dataxlsFiles[\"Agencia\"][\"depositoFijo\"][\"N Voucher\"]=\"\"\n",
    "dataxlsFiles[\"Agencia\"][\"depositoFijo\"][\"Monto Bs\"]=\"\"\n",
    "dataxlsFiles[\"Agencia\"][\"depositoFijo\"][\"Depositante\"]=\"\"\n",
    "dataxlsFiles[\"Agencia\"][\"depositoFijo\"][\"nro de cta bancaria\"]=\"\"\n",
    "\n",
    "print(dataxlsFiles)"
   ]
  },
  {
   "cell_type": "code",
   "execution_count": null,
   "metadata": {},
   "outputs": [],
   "source": [
    "import json\n",
    "with open('dataxlsFiles.json', 'w') as fp:\n",
    "    json.dump(dataxlsFiles, fp, sort_keys=True, indent=4)"
   ]
  },
  {
   "cell_type": "code",
   "execution_count": null,
   "metadata": {},
   "outputs": [],
   "source": [
    "dataxlsFiles={}\n",
    "dataxlsFiles[\"Agencia\"]={}\n",
    "\n",
    "dataxlsFiles[\"Agencia\"][\"VentasEfectuadas\"]={}\n",
    "dataxlsFiles[\"Agencia\"][\"VentasEfectuadas\"][\"alContado\"]={}\n",
    "dataxlsFiles[\"Agencia\"][\"VentasEfectuadas\"][\"alContado\"][\"Bs\"]=\"1\"\n",
    "dataxlsFiles[\"Agencia\"][\"VentasEfectuadas\"][\"alContado\"][\"Us\"]=\"2\"\n",
    "dataxlsFiles[\"Agencia\"][\"VentasEfectuadas\"][\"alCredito\"]={}\n",
    "dataxlsFiles[\"Agencia\"][\"VentasEfectuadas\"][\"alCredito\"][\"Bs\"]=\"3\"\n",
    "dataxlsFiles[\"Agencia\"][\"VentasEfectuadas\"][\"alCredito\"][\"Us\"]=\"4\"\n",
    "dataxlsFiles[\"Agencia\"][\"VentasEfectuadas\"][\"total\"]={}\n",
    "dataxlsFiles[\"Agencia\"][\"VentasEfectuadas\"][\"total\"][\"Bs\"]=\"\"\n",
    "dataxlsFiles[\"Agencia\"][\"VentasEfectuadas\"][\"total\"][\"Us\"]=\"\"\n",
    "print(dataxlsFiles)"
   ]
  },
  {
   "cell_type": "code",
   "execution_count": null,
   "metadata": {},
   "outputs": [],
   "source": [
    "import base64\n",
    "string64 =\"data:image/png;base64,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\"\n",
    "image = open(\"image.png\", \"wb\")\n",
    "image.write(string64.decode('base64'))\n",
    "image.close()\n",
    "# filename = 'some_image.png'  # I assume you have a way of picking unique filenames\n",
    "# with open(filename, 'wb') as f:\n",
    "#     f.write(imgdata)"
   ]
  },
  {
   "cell_type": "code",
   "execution_count": null,
   "metadata": {},
   "outputs": [],
   "source": [
    "import base64\n",
    "string64='data:image/png;base64,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'\n",
    "with open(\"imageToSave.png\", \"wb\") as fh:\n",
    "    fh.write(base64.decodebytes(string64))"
   ]
  },
  {
   "cell_type": "code",
   "execution_count": null,
   "metadata": {},
   "outputs": [],
   "source": [
    "import base64\n",
    "from PIL import Image\n",
    "from io import BytesIO\n",
    "with open(\"descarga2.png\", \"rb\") as image_file:\n",
    "    data = base64.b64encode(image_file.read())\n",
    "#data='data:image/png;base64,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'\n",
    "print(type(data))\n",
    "im = Image.open(BytesIO(base64.b64decode(data)))\n",
    "im.save('image1.png', 'PNG')"
   ]
  },
  {
   "cell_type": "code",
   "execution_count": null,
   "metadata": {},
   "outputs": [],
   "source": [
    "data=b'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'\n",
    "im = Image.open(BytesIO(base64.b64decode(data)))\n",
    "im.save('image1.png', 'PNG')"
   ]
  },
  {
   "cell_type": "code",
   "execution_count": null,
   "metadata": {},
   "outputs": [],
   "source": [
    "#create a colecction data\n",
    "import json\n",
    "dataSgv = {}\n",
    "dataSgv['NroKardex']=\"123456\"\n",
    "dataSgv['Type']=\"distribuidora\"\n",
    "dataSgv['LocalTrx']={}\n",
    "dataSgv['DolarTrx']={}\n",
    "\n",
    "#convert to json file\n",
    "json_data = json.dumps(dataSgv)\n",
    "\n",
    "with open('data.json', 'w') as f:\n",
    "    json.dump(json_data, f,sort_keys=True, indent=4)\n",
    "\n"
   ]
  },
  {
   "cell_type": "code",
   "execution_count": null,
   "metadata": {},
   "outputs": [],
   "source": [
    "import json\n",
    "dataxlsFiles={}\n",
    "dataxlsFiles[\"boxClose\"]=\"123456\"\n",
    "dataxlsFiles[\"type\"]={}\n",
    "\n",
    "dataxlsFiles[\"type\"][\"agency\"]={}\n",
    "dataxlsFiles[\"type\"][\"agency\"][\"localFile\"]={}\n",
    "dataxlsFiles[\"type\"][\"agency\"][\"dolarFile\"]={}\n",
    "dataxlsFiles[\"type\"][\"distributor\"]={}\n",
    "dataxlsFiles[\"type\"][\"distributor\"][\"localFile\"]={}\n",
    "dataxlsFiles[\"type\"][\"distributor\"][\"dolarFile\"]={}\n",
    "dataxlsFiles[\"type\"][\"distributor\"][\"cashiersFile\"]={}\n",
    "with open('dataxlsFiles.json', 'w') as fp:\n",
    "    json.dump(dataxlsFiles, fp, sort_keys=True, indent=4)\n",
    "\n",
    "print(dataxlsFiles)"
   ]
  },
  {
   "cell_type": "code",
   "execution_count": null,
   "metadata": {},
   "outputs": [],
   "source": [
    "import json\n",
    "import pandas as pd\n",
    "#read json file \n",
    "with open(r'C:\\DanielBots\\bot4\\data.json') as json_file:\n",
    "    data = json.load(json_file)\n",
    "    #print(data)\n",
    "listdata=data['data']\n",
    "for row in listdata:\n",
    "    print(row['Código'])\n",
    "#print(type(data['data']))\n",
    "#df=pd.DataFrame(data['data'])\n",
    "#print(df)\n",
    "#df"
   ]
  },
  {
   "cell_type": "code",
   "execution_count": null,
   "metadata": {},
   "outputs": [],
   "source": [
    "#create a function that modify a variable without return\n",
    "\n",
    "\n",
    "def modifyVar(x):\n",
    "    for y in range(x):    \n",
    "        xlsxFilesList.append(x)\n",
    "def called():\n",
    "    allList=[]\n",
    "    global xlsxFilesList\n",
    "    for i in range(10):\n",
    "        xlsxFilesList=[]\n",
    "        modifyVar(i)\n",
    "        nwdict={\n",
    "            \"boxClose\":i,\n",
    "            \"files\":xlsxFilesList\n",
    "        }\n",
    "        allList.append(nwdict)\n",
    "    print(allList)"
   ]
  },
  {
   "cell_type": "code",
   "execution_count": null,
   "metadata": {},
   "outputs": [],
   "source": [
    "#edit json file\n",
    "import json\n",
    "with open(r'C:\\DanielBots\\bot4\\data.json',\"r\") as json_file:\n",
    "    data = json.load(json_file)\n",
    "for row in data['data']:\n",
    "    row['NuevaData']={}\n",
    "with open('target\\CashClosingInfo.json',\"w\") as json_file:\n",
    "    json.dump(data,json_file,indent=4)\n",
    "\n",
    "    #print(data)"
   ]
  },
  {
   "cell_type": "code",
   "execution_count": 1,
   "metadata": {},
   "outputs": [],
   "source": [
    "# data frame example\n",
    "import pandas as pd\n",
    "import json\n",
    "listCountryes=[{\"countrName\":\"Peru\",\n",
    "    \"CountryCode\":\"PE\",\n",
    "    \"CountryLanguage\":\"Spanish\",\n",
    "    \"PIB\":\"1000\"\n",
    "},\n",
    "{\"countrName\":\"Chile\",\n",
    "    \"CountryCode\":\"CL\",\n",
    "    \"CountryLanguage\":\"Spanish\",\n",
    "    \"PIB\":\"2000\"\n",
    "},\n",
    "{\"countrName\":\"Colombia\",\n",
    "    \"CountryCode\":\"CO\",\n",
    "    \"CountryLanguage\":\"Spanish\",\n",
    "    \"PIB\":\"3000\"\n",
    "}]\n",
    "\n",
    "northAmerica=[{\"countrName\":\"USA\",\n",
    "    \"CountryCode\":\"US\",\n",
    "    \"CountryLanguage\":\"English\",\n",
    "    \"PIB\":\"8000\"\n",
    "},\n",
    "{\"countrName\":\"CANADA\",\n",
    "    \"CountryCode\":\"CA\",\n",
    "    \"CountryLanguage\":\"English\",\n",
    "    \"PIB\":\"2000\"\n",
    "},\n",
    "{\"countrName\":\"MEXICO\",\n",
    "    \"CountryCode\":\"MX\",\n",
    "    \"CountryLanguage\":\"Spanish\",\n",
    "    \"PIB\":\"3000\"\n",
    "}]\n",
    "\n",
    "df1=pd.DataFrame(listCountryes)\n",
    "df2=pd.DataFrame(northAmerica)\n",
    "#save df1 to txt file\n",
    "with open('data.txt', 'w') as f:\n",
    "    f.write(df1.to_string())"
   ]
  },
  {
   "cell_type": "code",
   "execution_count": 16,
   "metadata": {},
   "outputs": [],
   "source": [
    "#read data txt file\n",
    "df=pd.read_csv('data.txt',sep=';')\n",
    "df\n",
    "\n",
    "#save to excel file\n",
    "df1.to_excel('data.xlsx',index=False,sheet_name='southAmerica')"
   ]
  },
  {
   "cell_type": "code",
   "execution_count": 5,
   "metadata": {},
   "outputs": [
    {
     "name": "stdout",
     "output_type": "stream",
     "text": [
      "ALFREDO MENDOZA APAZA_14022023_4447.10\n"
     ]
    }
   ],
   "source": [
    "x=\"ALFREDO MENDOZA APAZA_14022023_4447.10.xlsx\"\n",
    "y=x[:-5]\n",
    "print(y)"
   ]
  },
  {
   "cell_type": "code",
   "execution_count": 8,
   "metadata": {},
   "outputs": [
    {
     "name": "stdout",
     "output_type": "stream",
     "text": [
      "1.7\n"
     ]
    }
   ],
   "source": [
    "n=\"1.7\"\n",
    "#convert to float with 2 decimals 1.70\n",
    "print(\"{:.2f}\".format(float(n)))"
   ]
  },
  {
   "cell_type": "code",
   "execution_count": null,
   "metadata": {},
   "outputs": [],
   "source": []
  }
 ],
 "metadata": {
  "kernelspec": {
   "display_name": "Python 3.9.12 ('base')",
   "language": "python",
   "name": "python3"
  },
  "language_info": {
   "codemirror_mode": {
    "name": "ipython",
    "version": 3
   },
   "file_extension": ".py",
   "mimetype": "text/x-python",
   "name": "python",
   "nbconvert_exporter": "python",
   "pygments_lexer": "ipython3",
   "version": "3.9.12"
  },
  "orig_nbformat": 4,
  "vscode": {
   "interpreter": {
    "hash": "ad2bdc8ecc057115af97d19610ffacc2b4e99fae6737bb82f5d7fb13d2f2c186"
   }
  }
 },
 "nbformat": 4,
 "nbformat_minor": 2
}
