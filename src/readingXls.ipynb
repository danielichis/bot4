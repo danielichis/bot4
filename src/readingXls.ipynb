{
 "cells": [
  {
   "cell_type": "code",
   "execution_count": 12,
   "metadata": {},
   "outputs": [
    {
     "name": "stdout",
     "output_type": "stream",
     "text": [
      "cashier_closing_agency 70 45\n",
      "   21/11/22 02:28:34                                             52906                                          Centro:   S1.V.LP.AG.CENTRO                                          Fecha:   19/11/2022 14:01:31                                                                                          2936 JUAN CARLOS CAPCHA ORELLANA                                                                                       CIERRE DE CAJA - S1.V.LP.AG.CENTRO - Nº CCAJ-LP01/503/22                                                Ventas Efectuadas                                             Ventas al Contado               Ventas al Crédito            TOTAL \n",
      "VENTAS                  EFECTIVO    DOCUMENTOS    TOTAL       PERSONAL \n",
      "IVSA    OTROS    TOTAL                      Bs    Bs    Bs       Bs    Bs    Bs    Bs                  A    B    C=A+B       D    E    F=D+E    G=C+F                  2277.72    277.2    2554.92       122.51    0.0    122.51    2677.43                  RECUENTO DE BILLETES, MONEDAS Y DOCUMENTOS\n",
      "EN MONEDA NACIONAL                                             Efectivo                                                            Corte   Cantidad   Total        Fondo para\n",
      "cambios     Importe a depositar           Corte   Cantidad  Total                                                       Monedas      Bs.        Bs     Bs   US$        Billetes     Bs.                                        200   2  400.00                                                                                                    5   20   100.00                                                                     100   15  1,500.00                                                                                                    2   7   14.00                                                                     50   2  100.00                                                                                                    1   99   99.00                                                                     20   32  640.00                                                                                                    0.50   78   39.00                                                                     10   38  380.00                                                                                                    0.20      -                                                                                                                  Total Billetes en Bs.     3020.0    H                                                                                                0.10   58   5.80                                                                                  Total Monedas en Bs.:        257.8    I    M     N=J-M                        Total Efectivo en Bs.(J=H+I):            3277.8    1,000.00     2,277.80   0.00                     Total Recuento Moneda Extranjera en Bs.:            0.0    K                             Total Efectivo en Bs.:            3277.8    L=J+K             Voucher de Tarjetas                Vales                             Fecha    Nro. Ref Nro. CI.     Bs.      Cantidad    Cliente       Bs.      Fecha     Nro. Ref   Nombre  Bs.  19/11/2022    000667 11110810LP     100.1                                   19/11/2022    000670 3091297LP     39.7                                                                              0.00 Q                 Total vales           0.00    P              19/11/2022    000669 2288637LP     62.2                                                                                                                             19/11/2022    000668 4750251LP     75.2                                   Total vouchers          277.20   O                                                Total efectivo y eq. de efectivo           3,555.00    R=L+O+P+Q                                                                           Fondos para cambios           1,000.00    M                                         2,555.00    S=R-M                              Sobrante en Bs.:           0.08    T=C-S                Aclaración de Diferencias                                            Concepto        Motivo          US$    Bs.  Total Bs.                     Sobrante        Por diferencia de Precios              (0.08)  (0.08)                     Total Diferencia                        (0.08)                     Diferencia Aclarada:                        0.00                    "
     ]
    }
   ],
   "source": [
    "import xlrd\n",
    "\n",
    "# Open the workbook and select the first worksheet\n",
    "wb = xlrd.open_workbook(r'C:\\DanielBots\\bot4\\descargas\\52906_arceoCajaBs.xls')\n",
    "#sh = wb.sheet_by_index(0)\n",
    "sh = wb.sheet_by_index(0)\n",
    "print(\"{0} {1} {2}\".format(sh.name, sh.nrows, sh.ncols))\n",
    "\n",
    "for rx in range(sh.nrows):\n",
    "    for cx in range(sh.ncols):\n",
    "        print(sh.cell_value(rx, cx), end=' ')\n",
    "    #print(sh.row(rx))\n"
   ]
  },
  {
   "cell_type": "code",
   "execution_count": 15,
   "metadata": {},
   "outputs": [
    {
     "name": "stdout",
     "output_type": "stream",
     "text": [
      "cashier_closing_agency\n"
     ]
    }
   ],
   "source": [
    "print(sh.cell_value(0, 0))"
   ]
  },
  {
   "cell_type": "code",
   "execution_count": null,
   "metadata": {},
   "outputs": [],
   "source": [
    "ventasEfectuadas={}\n",
    "ventasEfectuadas[\"alContado\"]={}\n",
    "ventasEfectuadas[\"alContado\"][\"Bs\"]=\"\"\n",
    "ventasEfectuadas[\"alContado\"][\"Us\"]=\"\"\n",
    "ventasEfectuadas[\"alCredito\"]={}\n",
    "ventasEfectuadas[\"alCredito\"][\"Bs\"]=\"\"\n",
    "ventasEfectuadas[\"alCredito\"][\"Us\"]=\"\"\n",
    "ventasEfectuadas[\"total\"]={}\n",
    "ventasEfectuadas[\"total\"][\"Bs\"]=\"\"\n",
    "ventasEfectuadas[\"total\"][\"Us\"]=\"\"\n",
    "ventasEfectuadas[\"totalEfectivo\"][\"Us\"]=\"\"\n",
    "ventasEfectuadas[\"totalEfectivo\"][\"Eq Bs\"]=\"\"\n",
    "\n",
    "voucherTarjetas={}\n",
    "voucherTarjetas[\"Bs.\"]\n",
    "voucherTarjetas[\"Fecha\"]\n",
    "voucherTarjetas[\"Nro. Ref\"]\n",
    "voucherTarjetas[\"Nro. Cl\"]\n",
    "\n",
    "vales={}\n"
   ]
  },
  {
   "cell_type": "code",
   "execution_count": 11,
   "metadata": {},
   "outputs": [
    {
     "name": "stdout",
     "output_type": "stream",
     "text": [
      "{'Agencia': {'VentasEfectuadas': {'alContado': {'Bs': '1', 'Us': '2'}, 'alCredito': {'Bs': '3', 'Us': '4'}, 'total': {'Bs': '', 'Us': ''}, 'totalEfectivo': {'Us': '', 'Eq Bs': ''}}, 'VoucherTarjetas': {'Bs.': '', 'Fecha': '', 'Nro. Ref': '', 'Nro. Cl': ''}, 'Vales': {'Bs.': '', 'Cantidad': '', 'Cliente': '', 'Bs': ''}, 'depositoFijo': {'fecha': '', 'N Voucher': '', 'Monto Bs': '', 'Depositante': '', 'nro de cta bancaria': ''}}}\n"
     ]
    }
   ],
   "source": [
    "dataxlsFiles={}\n",
    "dataxlsFiles[\"Agencia\"]={}\n",
    "\n",
    "dataxlsFiles[\"Agencia\"][\"VentasEfectuadas\"]={}\n",
    "dataxlsFiles[\"Agencia\"][\"VentasEfectuadas\"][\"alContado\"]={}\n",
    "dataxlsFiles[\"Agencia\"][\"VentasEfectuadas\"][\"alContado\"][\"Bs\"]=\"1\"\n",
    "dataxlsFiles[\"Agencia\"][\"VentasEfectuadas\"][\"alContado\"][\"Us\"]=\"2\"\n",
    "dataxlsFiles[\"Agencia\"][\"VentasEfectuadas\"][\"alCredito\"]={}\n",
    "dataxlsFiles[\"Agencia\"][\"VentasEfectuadas\"][\"alCredito\"][\"Bs\"]=\"3\"\n",
    "dataxlsFiles[\"Agencia\"][\"VentasEfectuadas\"][\"alCredito\"][\"Us\"]=\"4\"\n",
    "\n",
    "dataxlsFiles[\"Agencia\"][\"VentasEfectuadas\"][\"total\"]={}\n",
    "dataxlsFiles[\"Agencia\"][\"VentasEfectuadas\"][\"total\"][\"Bs\"]=\"\"\n",
    "dataxlsFiles[\"Agencia\"][\"VentasEfectuadas\"][\"total\"][\"Us\"]=\"\"\n",
    "\n",
    "dataxlsFiles[\"Agencia\"][\"VentasEfectuadas\"][\"totalEfectivo\"]={}\n",
    "dataxlsFiles[\"Agencia\"][\"VentasEfectuadas\"][\"totalEfectivo\"][\"Us\"]=\"\"\n",
    "dataxlsFiles[\"Agencia\"][\"VentasEfectuadas\"][\"totalEfectivo\"][\"Eq Bs\"]=\"\"\n",
    "\n",
    "dataxlsFiles[\"Agencia\"][\"VoucherTarjetas\"]={}\n",
    "dataxlsFiles[\"Agencia\"][\"VoucherTarjetas\"][\"Bs.\"]=\"\"\n",
    "dataxlsFiles[\"Agencia\"][\"VoucherTarjetas\"][\"Fecha\"]=\"\"\n",
    "dataxlsFiles[\"Agencia\"][\"VoucherTarjetas\"][\"Nro. Ref\"]=\"\"\n",
    "dataxlsFiles[\"Agencia\"][\"VoucherTarjetas\"][\"Nro. Cl\"]=\"\"\n",
    "dataxlsFiles[\"Agencia\"][\"Vales\"]={}\n",
    "dataxlsFiles[\"Agencia\"][\"Vales\"][\"Bs.\"]=\"\"\n",
    "dataxlsFiles[\"Agencia\"][\"Vales\"][\"Cantidad\"]=\"\"\n",
    "dataxlsFiles[\"Agencia\"][\"Vales\"][\"Cliente\"]=\"\"\n",
    "dataxlsFiles[\"Agencia\"][\"Vales\"][\"Bs\"]=\"\"\n",
    "\n",
    "dataxlsFiles[\"Agencia\"][\"depositoFijo\"]={}\n",
    "dataxlsFiles[\"Agencia\"][\"depositoFijo\"][\"fecha\"]=\"\"\n",
    "dataxlsFiles[\"Agencia\"][\"depositoFijo\"][\"N Voucher\"]=\"\"\n",
    "dataxlsFiles[\"Agencia\"][\"depositoFijo\"][\"Monto Bs\"]=\"\"\n",
    "dataxlsFiles[\"Agencia\"][\"depositoFijo\"][\"Depositante\"]=\"\"\n",
    "dataxlsFiles[\"Agencia\"][\"depositoFijo\"][\"nro de cta bancaria\"]=\"\"\n",
    "\n",
    "print(dataxlsFiles)"
   ]
  },
  {
   "cell_type": "code",
   "execution_count": 10,
   "metadata": {},
   "outputs": [],
   "source": [
    "import json\n",
    "with open('dataxlsFiles.json', 'w') as fp:\n",
    "    json.dump(dataxlsFiles, fp, sort_keys=True, indent=4)"
   ]
  },
  {
   "cell_type": "code",
   "execution_count": 8,
   "metadata": {},
   "outputs": [
    {
     "name": "stdout",
     "output_type": "stream",
     "text": [
      "{'Agencia': {'VentasEfectuadas': {'alContado': {'Bs': '1', 'Us': '2'}, 'alCredito': {'Bs': '3', 'Us': '4'}, 'total': {'Bs': '', 'Us': ''}}}}\n"
     ]
    }
   ],
   "source": [
    "dataxlsFiles={}\n",
    "dataxlsFiles[\"Agencia\"]={}\n",
    "\n",
    "dataxlsFiles[\"Agencia\"][\"VentasEfectuadas\"]={}\n",
    "dataxlsFiles[\"Agencia\"][\"VentasEfectuadas\"][\"alContado\"]={}\n",
    "dataxlsFiles[\"Agencia\"][\"VentasEfectuadas\"][\"alContado\"][\"Bs\"]=\"1\"\n",
    "dataxlsFiles[\"Agencia\"][\"VentasEfectuadas\"][\"alContado\"][\"Us\"]=\"2\"\n",
    "dataxlsFiles[\"Agencia\"][\"VentasEfectuadas\"][\"alCredito\"]={}\n",
    "dataxlsFiles[\"Agencia\"][\"VentasEfectuadas\"][\"alCredito\"][\"Bs\"]=\"3\"\n",
    "dataxlsFiles[\"Agencia\"][\"VentasEfectuadas\"][\"alCredito\"][\"Us\"]=\"4\"\n",
    "dataxlsFiles[\"Agencia\"][\"VentasEfectuadas\"][\"total\"]={}\n",
    "dataxlsFiles[\"Agencia\"][\"VentasEfectuadas\"][\"total\"][\"Bs\"]=\"\"\n",
    "dataxlsFiles[\"Agencia\"][\"VentasEfectuadas\"][\"total\"][\"Us\"]=\"\"\n",
    "print(dataxlsFiles)"
   ]
  },
  {
   "cell_type": "code",
   "execution_count": null,
   "metadata": {},
   "outputs": [],
   "source": []
  }
 ],
 "metadata": {
  "kernelspec": {
   "display_name": "Python 3.9.12 ('base')",
   "language": "python",
   "name": "python3"
  },
  "language_info": {
   "codemirror_mode": {
    "name": "ipython",
    "version": 3
   },
   "file_extension": ".py",
   "mimetype": "text/x-python",
   "name": "python",
   "nbconvert_exporter": "python",
   "pygments_lexer": "ipython3",
   "version": "3.9.12"
  },
  "orig_nbformat": 4,
  "vscode": {
   "interpreter": {
    "hash": "ad2bdc8ecc057115af97d19610ffacc2b4e99fae6737bb82f5d7fb13d2f2c186"
   }
  }
 },
 "nbformat": 4,
 "nbformat_minor": 2
}
