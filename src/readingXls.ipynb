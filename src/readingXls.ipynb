{
 "cells": [
  {
   "cell_type": "code",
   "execution_count": null,
   "metadata": {},
   "outputs": [],
   "source": [
    "import xlrd\n",
    "\n",
    "# Open the workbook and select the first worksheet\n",
    "wb = xlrd.open_workbook(r'C:\\DanielBots\\bot4\\descargas\\52906_arceoCajaBs.xls')\n",
    "#sh = wb.sheet_by_index(0)\n",
    "sh = wb.sheet_by_index(0)\n",
    "print(\"{0} {1} {2}\".format(sh.name, sh.nrows, sh.ncols))\n",
    "\n",
    "for rx in range(sh.nrows):\n",
    "    for cx in range(sh.ncols):\n",
    "        print(sh.cell_value(rx, cx), end=' ')\n",
    "    #print(sh.row(rx))\n"
   ]
  },
  {
   "cell_type": "code",
   "execution_count": null,
   "metadata": {},
   "outputs": [],
   "source": []
  },
  {
   "cell_type": "code",
   "execution_count": null,
   "metadata": {},
   "outputs": [],
   "source": [
    "ventasEfectuadas={}\n",
    "ventasEfectuadas[\"alContado\"]={}\n",
    "ventasEfectuadas[\"alContado\"][\"Bs\"]=\"\"\n",
    "ventasEfectuadas[\"alContado\"][\"Us\"]=\"\"\n",
    "ventasEfectuadas[\"alCredito\"]={}\n",
    "ventasEfectuadas[\"alCredito\"][\"Bs\"]=\"\"\n",
    "ventasEfectuadas[\"alCredito\"][\"Us\"]=\"\"\n",
    "ventasEfectuadas[\"total\"]={}\n",
    "ventasEfectuadas[\"total\"][\"Bs\"]=\"\"\n",
    "ventasEfectuadas[\"total\"][\"Us\"]=\"\"\n",
    "ventasEfectuadas[\"totalEfectivo\"][\"Us\"]=\"\"\n",
    "ventasEfectuadas[\"totalEfectivo\"][\"Eq Bs\"]=\"\"\n",
    "\n",
    "voucherTarjetas={}\n",
    "voucherTarjetas[\"Bs.\"]\n",
    "voucherTarjetas[\"Fecha\"]\n",
    "voucherTarjetas[\"Nro. Ref\"]\n",
    "voucherTarjetas[\"Nro. Cl\"]\n",
    "\n",
    "vales={}\n"
   ]
  },
  {
   "cell_type": "code",
   "execution_count": null,
   "metadata": {},
   "outputs": [],
   "source": [
    "dataxlsFiles={}\n",
    "dataxlsFiles[\"Agencia\"]={}\n",
    "\n",
    "dataxlsFiles[\"Agencia\"][\"VentasEfectuadas\"]={}\n",
    "dataxlsFiles[\"Agencia\"][\"VentasEfectuadas\"][\"alContado\"]={}\n",
    "dataxlsFiles[\"Agencia\"][\"VentasEfectuadas\"][\"alContado\"][\"Bs\"]=\"1\"\n",
    "dataxlsFiles[\"Agencia\"][\"VentasEfectuadas\"][\"alContado\"][\"Us\"]=\"2\"\n",
    "dataxlsFiles[\"Agencia\"][\"VentasEfectuadas\"][\"alCredito\"]={}\n",
    "dataxlsFiles[\"Agencia\"][\"VentasEfectuadas\"][\"alCredito\"][\"Bs\"]=\"3\"\n",
    "dataxlsFiles[\"Agencia\"][\"VentasEfectuadas\"][\"alCredito\"][\"Us\"]=\"4\"\n",
    "\n",
    "dataxlsFiles[\"Agencia\"][\"VentasEfectuadas\"][\"total\"]={}\n",
    "dataxlsFiles[\"Agencia\"][\"VentasEfectuadas\"][\"total\"][\"Bs\"]=\"\"\n",
    "dataxlsFiles[\"Agencia\"][\"VentasEfectuadas\"][\"total\"][\"Us\"]=\"\"\n",
    "\n",
    "dataxlsFiles[\"Agencia\"][\"VentasEfectuadas\"][\"totalEfectivo\"]={}\n",
    "dataxlsFiles[\"Agencia\"][\"VentasEfectuadas\"][\"totalEfectivo\"][\"Us\"]=\"\"\n",
    "dataxlsFiles[\"Agencia\"][\"VentasEfectuadas\"][\"totalEfectivo\"][\"Eq Bs\"]=\"\"\n",
    "\n",
    "dataxlsFiles[\"Agencia\"][\"VoucherTarjetas\"]={}\n",
    "dataxlsFiles[\"Agencia\"][\"VoucherTarjetas\"][\"Bs.\"]=\"\"\n",
    "dataxlsFiles[\"Agencia\"][\"VoucherTarjetas\"][\"Fecha\"]=\"\"\n",
    "dataxlsFiles[\"Agencia\"][\"VoucherTarjetas\"][\"Nro. Ref\"]=\"\"\n",
    "dataxlsFiles[\"Agencia\"][\"VoucherTarjetas\"][\"Nro. Cl\"]=\"\"\n",
    "dataxlsFiles[\"Agencia\"][\"Vales\"]={}\n",
    "dataxlsFiles[\"Agencia\"][\"Vales\"][\"Bs.\"]=\"\"\n",
    "dataxlsFiles[\"Agencia\"][\"Vales\"][\"Cantidad\"]=\"\"\n",
    "dataxlsFiles[\"Agencia\"][\"Vales\"][\"Cliente\"]=\"\"\n",
    "dataxlsFiles[\"Agencia\"][\"Vales\"][\"Bs\"]=\"\"\n",
    "\n",
    "dataxlsFiles[\"Agencia\"][\"depositoFijo\"]={}\n",
    "dataxlsFiles[\"Agencia\"][\"depositoFijo\"][\"fecha\"]=\"\"\n",
    "dataxlsFiles[\"Agencia\"][\"depositoFijo\"][\"N Voucher\"]=\"\"\n",
    "dataxlsFiles[\"Agencia\"][\"depositoFijo\"][\"Monto Bs\"]=\"\"\n",
    "dataxlsFiles[\"Agencia\"][\"depositoFijo\"][\"Depositante\"]=\"\"\n",
    "dataxlsFiles[\"Agencia\"][\"depositoFijo\"][\"nro de cta bancaria\"]=\"\"\n",
    "\n",
    "print(dataxlsFiles)"
   ]
  },
  {
   "cell_type": "code",
   "execution_count": null,
   "metadata": {},
   "outputs": [],
   "source": [
    "import json\n",
    "with open('dataxlsFiles.json', 'w') as fp:\n",
    "    json.dump(dataxlsFiles, fp, sort_keys=True, indent=4)"
   ]
  },
  {
   "cell_type": "code",
   "execution_count": null,
   "metadata": {},
   "outputs": [],
   "source": [
    "dataxlsFiles={}\n",
    "dataxlsFiles[\"Agencia\"]={}\n",
    "\n",
    "dataxlsFiles[\"Agencia\"][\"VentasEfectuadas\"]={}\n",
    "dataxlsFiles[\"Agencia\"][\"VentasEfectuadas\"][\"alContado\"]={}\n",
    "dataxlsFiles[\"Agencia\"][\"VentasEfectuadas\"][\"alContado\"][\"Bs\"]=\"1\"\n",
    "dataxlsFiles[\"Agencia\"][\"VentasEfectuadas\"][\"alContado\"][\"Us\"]=\"2\"\n",
    "dataxlsFiles[\"Agencia\"][\"VentasEfectuadas\"][\"alCredito\"]={}\n",
    "dataxlsFiles[\"Agencia\"][\"VentasEfectuadas\"][\"alCredito\"][\"Bs\"]=\"3\"\n",
    "dataxlsFiles[\"Agencia\"][\"VentasEfectuadas\"][\"alCredito\"][\"Us\"]=\"4\"\n",
    "dataxlsFiles[\"Agencia\"][\"VentasEfectuadas\"][\"total\"]={}\n",
    "dataxlsFiles[\"Agencia\"][\"VentasEfectuadas\"][\"total\"][\"Bs\"]=\"\"\n",
    "dataxlsFiles[\"Agencia\"][\"VentasEfectuadas\"][\"total\"][\"Us\"]=\"\"\n",
    "print(dataxlsFiles)"
   ]
  },
  {
   "cell_type": "code",
   "execution_count": null,
   "metadata": {},
   "outputs": [],
   "source": [
    "import base64\n",
    "string64 =\"data:image/png;base64,/9j/4AAQSkZJRgABAQEAYABgAAD/2wBDAAgGBgcGBQgHBwcJCQgKDBQNDAsLDBkSEw8UHRofHh0aHBwgJC4nICIsIxwcKDcpLDAxNDQ0Hyc5PTgyPC4zNDL/2wBDAQkJCQwLDBgNDRgyIRwhMjIyMjIyMjIyMjIyMjIyMjIyMjIyMjIyMjIyMjIyMjIyMjIyMjIyMjIyMjIyMjIyMjL/wAARCABQAMgDASIAAhEBAxEB/8QAHwAAAQUBAQEBAQEAAAAAAAAAAAECAwQFBgcICQoL/8QAtRAAAgEDAwIEAwUFBAQAAAF9AQIDAAQRBRIhMUEGE1FhByJxFDKBkaEII0KxwRVS0fAkM2JyggkKFhcYGRolJicoKSo0NTY3ODk6Q0RFRkdISUpTVFVWV1hZWmNkZWZnaGlqc3R1dnd4eXqDhIWGh4iJipKTlJWWl5iZmqKjpKWmp6ipqrKztLW2t7i5usLDxMXGx8jJytLT1NXW19jZ2uHi4+Tl5ufo6erx8vP09fb3+Pn6/8QAHwEAAwEBAQEBAQEBAQAAAAAAAAECAwQFBgcICQoL/8QAtREAAgECBAQDBAcFBAQAAQJ3AAECAxEEBSExBhJBUQdhcRMiMoEIFEKRobHBCSMzUvAVYnLRChYkNOEl8RcYGRomJygpKjU2Nzg5OkNERUZHSElKU1RVVldYWVpjZGVmZ2hpanN0dXZ3eHl6goOEhYaHiImKkpOUlZaXmJmaoqOkpaanqKmqsrO0tba3uLm6wsPExcbHyMnK0tPU1dbX2Nna4uPk5ebn6Onq8vP09fb3+Pn6/9oADAMBAAIRAxEAPwDrfMo8yqnme9Hme9ddjgLfmUeZVTzPejzPeiwFvzKPMqp5nvR5nvRYC35lHmVU8z3o8z3osBb8yjzKqeZ70eZ70WAt+ZR5lVPM96PM96LAW/Mo8yqnme9Hme9FgLfmUeZVTzPejzPeiwFvzKPMqp5nvR5nvRYC35lHmVU8z3o8z3osBb8yjzKqeZ70eZ70WAt+ZR5lVPM96PM96LAW/Moqp5nvRRYCp5lHmVU8yjzK0sIt+ZR5lVPMo8yiwFvzKPMqp5lHmUWA7GPwVqkkauJrQbgDgu2R/wCO1W1LwxfaVYvdzzWxjUgYRmJOTjuK5fzK7TxMwsPCWkWPRnAdh9F5/VqzlzJrU0jytPToc/YW0uo3sVpAV8yQ4BY8DjPNb/8Awg+q/wDPez/77b/4mqngOHz9eaU9IYmYfU4H9TWNezS6nrdw0KNLJNMxRUGSeew+lN3crIUUuXmZd1XR77R3Auox5bHCyIcq3+H40/StHudYSY2ssIaLko7EMfpxWz4quWtPDFhp95L5l+213y2SMA8n88Z781geF9W/s3XYHdsQynypPoe/4HFKN5RY5KMZIpFyCQeCOCK1W0S7j0ganPJDBC33FkYh39MADvXR3Hhe3TxBcandsi6ao84qehbuD7d/xxXJeIPEEmtX28ZS2j4hj9B6n3NJS5rKI3BRu5FeFZbiZYoI3kkb7qoMk10MPgvV5Yg7m3hY/wADyEkfkCP1q0jJ4P8ADUdxsVtTvBxu/hHXH0HH41xd1f3F7OZrmZ5ZD/E5z+A9B7U9ZP3SbKKvI1tU0m90eRVukXa5Ox0bKtj9fzpmnaZfarKUtIS4H3nPCr9T/TrVKO4vNTktLAzPIA4SFWOQucD8uBXU+JdR/sCzt9D02QxEJumkXhj+Pqep/Cm7qy6glFtvoQz+DNWhhaRTbzEfwRudx/MAVzjMyMVYEMDggjkGr3ha/mtvEFqsTkLNII3XPDA+tP8AF6JB4muljwA21yB6kAmkrqVmDUXG6M3zKPMqp5lHmVpYgt+ZR5lVPMo8yiwFvzKKqeZRRYCp5lHmVU8yjzK0sSW/Mo8yqnmUeZRYC35lHmVU8yul8O2Hh/UrCeLUNTNnflsxM/yooA9Twck9Mg8cUnorjSu7Gdp0RvNStbYcmWVU/M10/wARLzdrcFsG+WGEcehJ/wAAKfY2/hrwnN/aM2sx6ncqD5EVuAcH1OCefckd+prjdV1aXVtTnvpsB5WztHRR0A/AVn8ck1sjS3JF33Z3HguX+zvD2sauVBKDCZ7lRnH5kVDb/EnUBOn2i0tWhz8wjDK2PYlj/KrGjjTLjwCumSa3ZWc1wxeQvIpZfmzgruHYCqVvo3hbRZlvL/xBDfqjZSG3AOWHPzBSxx+Q9ah8rm+ZFLm5Fyi+PtPgsr+3vIS+bsMzh2LcjHPP16e1ZvhjQZdfv9pylpEczSD/ANBHuai1fWH8X+IYwJIrS2HyRm4kVAi92JJ6+w+la/iHX7LRtGi0DQZ0kVkzPcxsGznqMjue/oOPo480YKPUUlGU2+h0mvtBrvhO7/s2dnWzfBCtw2zqPcY5H0Fea6dtm1O0iblXmRT9CRW14A16HTtUltbuZI7W5TlpGAVWHTJPAyMj8qxNaSHTtenWxuYpYVk3wyQyBgB1HI7jp+FOnHkly/MVR88eb5HVfEadv7ZtYjwiwbh9Sxz/ACFS+FdV02/uLPSW8P2rybCHuXCsTgEkkbf61Jc6h4e8a2EH2y/XTdShTrIQFHTPJwGHoMg0mjW/h/wnetqE3iO2uyyGNUhTcQTzn5WY9vbrUKyhyyWpbvKfNHYNPW2l+J0kdvDHFDAWCoihQCqYPA981zvim5aXxPqBY8iUqPoOB/KqWl6+1h4lTVnVnBlZpFB5IbOfx5rtNR8N6P4mkl1ux1qOCFhmcsgIUjuckFfx+tVbkcXLtYXxqSXf8DG8C2T3viKObB8q2UyMffoB+f8AKs3xFqK6h4gvLhGzG0m1D6gcD+Va+peINJ0HSZdH8OuZpJsi4vD37YB7+xHGOmSa4nzKqKcpc3Qh+7Hl6lvzKPMqp5lHmVrYzLfmUeZVTzKPMosBb8yiqnmUUWAp+ZR5lVPMo8ytLCLfmUeZVTzKPMosBb8yuq0e18GzaVDJq2r3lvfHd5kcaEqvzHGP3Z7Y71xXmUeZUyjdbjjKx6H9g+Hn/Qf1D/v2f/jVH2D4ef8AQf1D/v2f/jVeeeZR5lT7J/zMr2nkj0P7B8PP+g/qH/fs/wDxqj7B8PP+g/qH/fs//Gq888yjzKPZP+Zh7TyR6H9g+Hn/AEH9Q/79n/41R9g+Hn/Qf1D/AL9n/wCNV555lHmUeyf8zD2nkj0P7B8PP+g/qH/fs/8Axqj7B8PP+g/qH/fs/wDxqvPPMo8yj2T/AJmHtPJHof2D4ef9B/UP+/Z/+NUfYPh5/wBB/UP+/Z/+NV555lHmUeyf8zD2nkj0P7B8PP8AoP6h/wB+z/8AGq2tI1bwNo+n3dhHq889vdf6xJ4XPbBwVQdq8i8yjzKTo3Vm2NVbO6SPR0s/h0okB1m9fcMAsj/Jz1GI+vbnNcxr6aNb36Jod5NdWpiBZ5hgh8nI+6vGMdu9c/5lHmVUadne7E53Wxb8yjzKqeZR5lXYgt+ZR5lVPMo8yiwFvzKKqeZRRYCp5lHmVU8yjzK0sSW/Mo8yqnmUeZRYC35lHmVU8yjzKLAW/Mo8yqnmUeZRYC35lHmVU8yjzKLAW/Mo8yqnmUeZRYC35lHmVU8yjzKLAW/Mo8yqnmUeZRYC35lHmVU8yjzKLAW/Mo8yqnmUeZRYC35lHmVU8yjzKLAW/Mo8yqnmUeZRYC35lFVPMoosB//Z\"\n",
    "image = open(\"image.png\", \"wb\")\n",
    "image.write(string64.decode('base64'))\n",
    "image.close()\n",
    "# filename = 'some_image.png'  # I assume you have a way of picking unique filenames\n",
    "# with open(filename, 'wb') as f:\n",
    "#     f.write(imgdata)"
   ]
  },
  {
   "cell_type": "code",
   "execution_count": null,
   "metadata": {},
   "outputs": [],
   "source": [
    "import base64\n",
    "string64='data:image/png;base64,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'\n",
    "with open(\"imageToSave.png\", \"wb\") as fh:\n",
    "    fh.write(base64.decodebytes(string64))"
   ]
  },
  {
   "cell_type": "code",
   "execution_count": null,
   "metadata": {},
   "outputs": [],
   "source": [
    "import base64\n",
    "from PIL import Image\n",
    "from io import BytesIO\n",
    "with open(\"descarga2.png\", \"rb\") as image_file:\n",
    "    data = base64.b64encode(image_file.read())\n",
    "#data='data:image/png;base64,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'\n",
    "print(type(data))\n",
    "im = Image.open(BytesIO(base64.b64decode(data)))\n",
    "im.save('image1.png', 'PNG')"
   ]
  },
  {
   "cell_type": "code",
   "execution_count": null,
   "metadata": {},
   "outputs": [],
   "source": [
    "data=b'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'\n",
    "im = Image.open(BytesIO(base64.b64decode(data)))\n",
    "im.save('image1.png', 'PNG')"
   ]
  },
  {
   "cell_type": "code",
   "execution_count": null,
   "metadata": {},
   "outputs": [],
   "source": [
    "#create a colecction data\n",
    "import json\n",
    "dataSgv = {}\n",
    "dataSgv['NroKardex']=\"123456\"\n",
    "dataSgv['Type']=\"distribuidora\"\n",
    "dataSgv['LocalTrx']={}\n",
    "dataSgv['DolarTrx']={}\n",
    "\n",
    "#convert to json file\n",
    "json_data = json.dumps(dataSgv)\n",
    "\n",
    "with open('data.json', 'w') as f:\n",
    "    json.dump(json_data, f,sort_keys=True, indent=4)\n",
    "\n"
   ]
  },
  {
   "cell_type": "code",
   "execution_count": null,
   "metadata": {},
   "outputs": [],
   "source": [
    "import json\n",
    "dataxlsFiles={}\n",
    "dataxlsFiles[\"boxClose\"]=\"123456\"\n",
    "dataxlsFiles[\"type\"]={}\n",
    "\n",
    "dataxlsFiles[\"type\"][\"agency\"]={}\n",
    "dataxlsFiles[\"type\"][\"agency\"][\"localFile\"]={}\n",
    "dataxlsFiles[\"type\"][\"agency\"][\"dolarFile\"]={}\n",
    "dataxlsFiles[\"type\"][\"distributor\"]={}\n",
    "dataxlsFiles[\"type\"][\"distributor\"][\"localFile\"]={}\n",
    "dataxlsFiles[\"type\"][\"distributor\"][\"dolarFile\"]={}\n",
    "dataxlsFiles[\"type\"][\"distributor\"][\"cashiersFile\"]={}\n",
    "with open('dataxlsFiles.json', 'w') as fp:\n",
    "    json.dump(dataxlsFiles, fp, sort_keys=True, indent=4)\n",
    "\n",
    "print(dataxlsFiles)"
   ]
  },
  {
   "cell_type": "code",
   "execution_count": null,
   "metadata": {},
   "outputs": [],
   "source": [
    "import json\n",
    "import pandas as pd\n",
    "#read json file \n",
    "with open(r'C:\\DanielBots\\bot4\\data.json') as json_file:\n",
    "    data = json.load(json_file)\n",
    "    #print(data)\n",
    "listdata=data['data']\n",
    "for row in listdata:\n",
    "    print(row['Código'])\n",
    "#print(type(data['data']))\n",
    "#df=pd.DataFrame(data['data'])\n",
    "#print(df)\n",
    "#df"
   ]
  },
  {
   "cell_type": "code",
   "execution_count": null,
   "metadata": {},
   "outputs": [],
   "source": [
    "#create a function that modify a variable without return\n",
    "\n",
    "\n",
    "def modifyVar(x):\n",
    "    for y in range(x):    \n",
    "        xlsxFilesList.append(x)\n",
    "def called():\n",
    "    allList=[]\n",
    "    global xlsxFilesList\n",
    "    for i in range(10):\n",
    "        xlsxFilesList=[]\n",
    "        modifyVar(i)\n",
    "        nwdict={\n",
    "            \"boxClose\":i,\n",
    "            \"files\":xlsxFilesList\n",
    "        }\n",
    "        allList.append(nwdict)\n",
    "    print(allList)"
   ]
  },
  {
   "cell_type": "code",
   "execution_count": null,
   "metadata": {},
   "outputs": [],
   "source": [
    "#edit json file\n",
    "import json\n",
    "with open(r'C:\\DanielBots\\bot4\\data.json',\"r\") as json_file:\n",
    "    data = json.load(json_file)\n",
    "for row in data['data']:\n",
    "    row['NuevaData']={}\n",
    "with open('target\\CashClosingInfo.json',\"w\") as json_file:\n",
    "    json.dump(data,json_file,indent=4)\n",
    "\n",
    "    #print(data)"
   ]
  },
  {
   "cell_type": "code",
   "execution_count": null,
   "metadata": {},
   "outputs": [],
   "source": [
    "# data frame example\n",
    "import pandas as pd\n",
    "import json\n",
    "listCountryes=[{\"countrName\":\"Peru\",\n",
    "    \"CountryCode\":\"PE\",\n",
    "    \"CountryLanguage\":\"Spanish\",\n",
    "    \"PIB\":\"1000\"\n",
    "},\n",
    "{\"countrName\":\"Chile\",\n",
    "    \"CountryCode\":\"CL\",\n",
    "    \"CountryLanguage\":\"Spanish\",\n",
    "    \"PIB\":\"2000\"\n",
    "},\n",
    "{\"countrName\":\"Colombia\",\n",
    "    \"CountryCode\":\"CO\",\n",
    "    \"CountryLanguage\":\"Spanish\",\n",
    "    \"PIB\":\"3000\"\n",
    "}]\n",
    "\n",
    "northAmerica=[{\"countrName\":\"USA\",\n",
    "    \"CountryCode\":\"US\",\n",
    "    \"CountryLanguage\":\"English\",\n",
    "    \"PIB\":\"8000\"\n",
    "},\n",
    "{\"countrName\":\"CANADA\",\n",
    "    \"CountryCode\":\"CA\",\n",
    "    \"CountryLanguage\":\"English\",\n",
    "    \"PIB\":\"2000\"\n",
    "},\n",
    "{\"countrName\":\"MEXICO\",\n",
    "    \"CountryCode\":\"MX\",\n",
    "    \"CountryLanguage\":\"Spanish\",\n",
    "    \"PIB\":\"3000\"\n",
    "}]\n",
    "\n",
    "df1=pd.DataFrame(listCountryes)\n",
    "df2=pd.DataFrame(northAmerica)\n",
    "#save df1 to txt file\n",
    "with open('data.txt', 'w') as f:\n",
    "    f.write(df1.to_string())"
   ]
  },
  {
   "cell_type": "code",
   "execution_count": null,
   "metadata": {},
   "outputs": [],
   "source": [
    "#read data txt file\n",
    "df=pd.read_csv('data.txt',sep=';')\n",
    "df\n",
    "\n",
    "#save to excel file\n",
    "df1.to_excel('data.xlsx',index=False,sheet_name='southAmerica')"
   ]
  },
  {
   "cell_type": "code",
   "execution_count": null,
   "metadata": {},
   "outputs": [],
   "source": [
    "x=\"ALFREDO MENDOZA APAZA_14022023_4447.10.xlsx\"\n",
    "y=x[:-5]\n",
    "print(y)"
   ]
  },
  {
   "cell_type": "code",
   "execution_count": null,
   "metadata": {},
   "outputs": [],
   "source": [
    "n=\"1.7\"\n",
    "#convert to float with 2 decimals 1.70\n",
    "print(\"{:.2f}\".format(float(n)))"
   ]
  },
  {
   "cell_type": "code",
   "execution_count": null,
   "metadata": {},
   "outputs": [],
   "source": [
    "import json\n",
    "with open(r'C:\\DanielBots\\bot4\\src\\target\\FullExcelData.json',\"r\") as json_file:\n",
    "        data = json.load(json_file)\n",
    "\n",
    "for d in data[\"data\"]:\n",
    "    print(d['Código'])"
   ]
  },
  {
   "cell_type": "code",
   "execution_count": null,
   "metadata": {},
   "outputs": [],
   "source": [
    "import pandas as pd\n",
    "\n",
    "df_bills=pd.read_csv(r'C:\\DanielBots\\bot4\\Tablas\\billsTable.csv',sep=';')\n",
    "df_coins=pd.read_csv(r'C:\\DanielBots\\bot4\\Tablas\\coinsTable.csv',sep=';')\n",
    "df_transfers=pd.read_csv(r'C:\\DanielBots\\bot4\\Tablas\\banktransfersTable.csv',sep=';')\n",
    "df_vouchers=pd.read_csv(r'C:\\DanielBots\\bot4\\Tablas\\voucherTable.csv',sep=';')\n",
    "#concat all dataframes\n",
    "df_all=pd.concat([df_bills,df_coins,df_transfers,df_vouchers],ignore_index=True)\n",
    "#save to csv file\n",
    "df_all.to_csv(r'C:\\DanielBots\\bot4\\Tablas\\allTable.csv',index=False,sep=';')\n"
   ]
  },
  {
   "cell_type": "code",
   "execution_count": null,
   "metadata": {},
   "outputs": [],
   "source": [
    "#normalize data with pandas\n",
    "import pandas as pd\n",
    "\n",
    "df = pd.DataFrame({'ZONE': ['A', 'B', 'C', 'D', 'E'],\n",
    "                   'usCASH': [18, 22, 19, 14, 14],\n",
    "                   'bsCASH': [5, 7, 7, 9, 12],\n",
    "                   'usCHECK': [11, 8, 10, 6, 6],\n",
    "                   'bsCHECK': [3, 4, 4, 3, 3],},\n",
    "                   )\n",
    "df_unpivoted = pd.DataFrame(columns=['Currency', 'Payment Type', 'Amount', 'ZONE'])\n",
    "\n",
    "# Add rows to the new DataFrame with the desired structure\n",
    "for index, row in df.iterrows():\n",
    "    zone = row['ZONE']\n",
    "    us_cash = row['usCASH']\n",
    "    bs_cash = row['bsCASH']\n",
    "    us_check = row['usCHECK']\n",
    "    bs_check = row['bsCHECK']\n",
    "    df_unpivoted = df_unpivoted.append({'Currency': 'us', 'Payment Type': 'CASH', 'Amount': us_cash, 'ZONE': zone}, ignore_index=True)\n",
    "    df_unpivoted = df_unpivoted.append({'Currency': 'bs', 'Payment Type': 'CASH', 'Amount': bs_cash, 'ZONE': zone}, ignore_index=True)\n",
    "    df_unpivoted = df_unpivoted.append({'Currency': 'us', 'Payment Type': 'CHECK', 'Amount': us_check, 'ZONE': zone}, ignore_index=True)\n",
    "    df_unpivoted = df_unpivoted.append({'Currency': 'bs', 'Payment Type': 'CHECK', 'Amount': bs_check, 'ZONE': zone}, ignore_index=True)\n",
    "\n",
    "df_unpivoted"
   ]
  },
  {
   "cell_type": "code",
   "execution_count": null,
   "metadata": {},
   "outputs": [],
   "source": [
    "df=pd.read_csv(r'C:\\DanielBots\\bot4\\Tablas\\summariesTable.csv',sep=';')\n",
    "df"
   ]
  },
  {
   "cell_type": "code",
   "execution_count": null,
   "metadata": {},
   "outputs": [],
   "source": [
    "import pandas as pd\n",
    "\n",
    "df = pd.DataFrame({'ZONE': ['A', 'B', 'C', 'D', 'E'],\n",
    "                   'usCASH': [18, 22, 19, 14, 14],\n",
    "                   'bsCASH': [5, 7, 7, 9, 12],\n",
    "                   'usCHECK': [11, 8, 10, 6, 6],\n",
    "                   'bsCHECK': [3, 4, 4, 3, 3],},\n",
    "                   )\n",
    "\n",
    "# Specify Currency and Payment Type manually\n",
    "df_unpivoted = pd.DataFrame({\n",
    "    'ZONE': df['ZONE'].repeat(4),\n",
    "    'Currency': ['us', 'bs', 'us', 'bs'] * len(df),\n",
    "    'Payment Type': ['CASH'] * 2 + ['CHECK'] * 2) * len(df),\n",
    "    'Amount': df[['usCASH', 'bsCASH', 'usCHECK', 'bsCHECK']].values.reshape(-1),\n",
    "})\n",
    "\n",
    "print(df_unpivoted)\n"
   ]
  },
  {
   "cell_type": "code",
   "execution_count": null,
   "metadata": {},
   "outputs": [],
   "source": [
    "import json\n",
    "\n",
    "# Agrega un nuevo objeto JSON a un archivo existente\n",
    "nuevo_objeto = [{'nombre': 'martin', 'edad': 30}]\n",
    "with open('archivo.json', 'a') as f:\n",
    "    json.dump(nuevo_objeto, f)\n",
    "    f.write('\\n')"
   ]
  },
  {
   "cell_type": "code",
   "execution_count": null,
   "metadata": {},
   "outputs": [],
   "source": [
    "def function1():\n",
    "    a['c']=3\n",
    "    print(\"function1\")\n",
    "    return a\n",
    "def main():\n",
    "    global a\n",
    "    a={\"a\":1,\"b\":2}\n",
    "    b=function1()\n",
    "    print(b)\n",
    "main()"
   ]
  },
  {
   "cell_type": "code",
   "execution_count": null,
   "metadata": {},
   "outputs": [],
   "source": [
    "from utils import pathsProyect\n",
    "import os\n",
    "p=pathsProyect()\n",
    "path1=os.path.join(p.appPath, 'Cierres de Caja',\"ORURO_56156_arceoCajaBs_ag.xls\")\n",
    "print(path1)\n",
    "#get file name without extension\n",
    "print(os.path.splitext(os.path.basename(path1))[0])"
   ]
  },
  {
   "cell_type": "code",
   "execution_count": null,
   "metadata": {},
   "outputs": [],
   "source": [
    "\n",
    "import openpyxl\n",
    "from openpyxl import load_workbook\n",
    "counter=0\n",
    "wb = load_workbook(filename = r'C:\\DanielBots\\bot4\\Cierres de Caja\\formatoxlsx\\ORURO_56156_arceoCajaBs_ag.xlsx')\n",
    "sh=wb.worksheets[0]\n",
    "Nofounded=True\n",
    "counter=0\n",
    "i=21\n",
    "j=16\n",
    "b1=False\n",
    "b2=False\n",
    "b3=False\n",
    "while i<=sh.max_row and Nofounded:\n",
    "    j=16\n",
    "    while j<=20:\n",
    "        print(i,j)\n",
    "        counter+=1\n",
    "        if sh.cell(row=i,column=j).value==\"Total Recuento Moneda Extranjera en Bs.:\":\n",
    "            b1=True\n",
    "            \n",
    "        if sh.cell(row=i,column=j).value==\"Total Efectivo en Bs.(J=H+I):\":\n",
    "            b2=True\n",
    "        if sh.cell(row=i,column=j).value==\"Fondos para cambios\":\n",
    "            b3=True\n",
    "        if b1 and b2 and b3:\n",
    "            Nofounded=False\n",
    "        j+=1\n",
    "    i+=1\n",
    "print(counter)"
   ]
  },
  {
   "cell_type": "code",
   "execution_count": null,
   "metadata": {},
   "outputs": [],
   "source": [
    "from openpyxl import load_workbook\n",
    "counter=0\n",
    "wb = load_workbook(filename = r'C:\\DanielBots\\bot4\\Cierres de Caja\\formatoxlsx\\ORURO_56156_arceoCajaBs_ag.xlsx')\n",
    "sh=wb.worksheets[0]\n",
    "Nofounded=True\n",
    "counter=0\n",
    "i=16\n",
    "b1=False\n",
    "b2=False\n",
    "b3=False\n",
    "while i<=sh.max_row and Nofounded:\n",
    "    j=33\n",
    "    while j<=sh.max_column:\n",
    "        print(i,j)\n",
    "        counter+=1\n",
    "        if sh.cell(row=i,column=j).value==\"M\":\n",
    "            fondoCambios=sh.cell(row=i+1,column=j).value\n",
    "            b1=True\n",
    "        if sh.cell(row=i,column=j).value==\"N=J-M\":\n",
    "            b2=True\n",
    "            importeDepositar=sh.cell(row=i+1,column=j).value\n",
    "        if b1 and b2:\n",
    "            Nofounded=False\n",
    "            break\n",
    "        j+=1\n",
    "    i+=1\n",
    "if Nofounded:\n",
    "    print(\"No se encontro\")\n",
    "else:\n",
    "    print(\"Se encontro\")"
   ]
  },
  {
   "cell_type": "code",
   "execution_count": null,
   "metadata": {},
   "outputs": [],
   "source": [
    "import pandas as pd\n",
    "\n",
    "df=pd.DataFrame([])\n",
    "#validar si el dataframe esta vacio\n",
    "if df.empty:\n",
    "    print(\"vacio\")\n",
    "print(df)"
   ]
  },
  {
   "cell_type": "code",
   "execution_count": null,
   "metadata": {},
   "outputs": [],
   "source": [
    "df1=pd.DataFrame([{\"Edad\":12,\"cantidad\":2},{\"Edad\":13,\"cantidad\":4},{\"Edad\":14,\"cantidad\":5}])\n",
    "df2=pd.DataFrame([{\"Numero\":987987,\"codigo\":201312},{\"Numero\":987654,\"codigo\":201313}])\n",
    "df3=pd.DataFrame([{\"telefono\":567567,\"altura\":187},{\"telefono\":567123,\"altura\":188}])\n",
    "\n",
    "df_concat=pd.concat([df1,df2,df3],axis=1)\n",
    "df_concat"
   ]
  },
  {
   "cell_type": "code",
   "execution_count": null,
   "metadata": {},
   "outputs": [],
   "source": [
    "import pandas as pd\n",
    "nofounded=True\n",
    "with open (r\"C:\\DanielBots\\bot4\\SAPinfo\\10.04.2023 a 14.04.2023.txt\") as fp:\n",
    "    lines=fp.readlines()\n",
    "    tableLines=[]\n",
    "    for i,line in enumerate(lines):\n",
    "        #print(i)\n",
    "        fields=line.split(\"\\t\")\n",
    "        if len(fields)==15:\n",
    "            #print(f\"-------{len(fields)}\")\n",
    "            lineDict={\n",
    "                \"St\":fields[3],\n",
    "                \"Nº doc.\":fields[5],\n",
    "                \"Fecha doc.\":fields[6],\n",
    "                \"Fecha.contab\":fields[7],\n",
    "                \"CT\":fields[8],\n",
    "                \"Importe en Ml\":fields[9],\n",
    "                \"ML\":fields[10],\n",
    "                \"Texto\":fields[11],\n",
    "                \"ImpteML2\":fields[12],\n",
    "                \"ML2\":fields[13],\n",
    "                \"Libro Mayor\":fields[14].strip(),                \n",
    "            }\n",
    "            tableLines.append(lineDict)\n",
    "df=pd.DataFrame(tableLines)\n",
    "df"
   ]
  },
  {
   "cell_type": "code",
   "execution_count": null,
   "metadata": {},
   "outputs": [],
   "source": [
    "numero_str = \"180.959,00\"\n",
    "numero_float = float(numero_str.replace(\".\", \"\").replace(\",\", \".\"))\n",
    "print(numero_float)"
   ]
  },
  {
   "cell_type": "code",
   "execution_count": null,
   "metadata": {},
   "outputs": [],
   "source": [
    "listofDicts=[{\"a\":1,\"b\":2},{\"a\":3,\"b\":4},{\"a\":5,\"b\":6}]\n",
    "#add value 7 to key \"c\" in each dict\n",
    "for d in listofDicts:\n",
    "    d[\"c\"]=7\n",
    "listofDicts"
   ]
  },
  {
   "cell_type": "code",
   "execution_count": null,
   "metadata": {},
   "outputs": [],
   "source": [
    "n=\"14.9\"\n",
    "#n to float with two decimals 14.90\n",
    "x=\"{:.2f}\".format(float(n))\n",
    "x"
   ]
  },
  {
   "cell_type": "code",
   "execution_count": null,
   "metadata": {},
   "outputs": [],
   "source": [
    "lista = [{\"nombre\": \"Juan\", \"edad\": 25},         {\"nombre\": \"Ana\", \"edad\": 25},         {\"nombre\": \"Pedro\", \"edad\": 20},         {\"nombre\": \"Luisa\", \"edad\": 30}]\n",
    "\n",
    "filtro = filter(lambda x: x[\"edad\"] == 80, lista)\n",
    "resultado = list(filtro)\n",
    "\n",
    "if resultado:\n",
    "    print(resultado)\n",
    "else:\n",
    "    resultado = [{k: '' for k in lista[0].keys()}]\n",
    "    print(resultado)\n"
   ]
  },
  {
   "cell_type": "code",
   "execution_count": null,
   "metadata": {},
   "outputs": [],
   "source": [
    "D={'a': 1, 'b': 2, 'c': 3}\n",
    "S = dict.fromkeys(D.keys(), 'INFO NO ENCONTRADA')\n",
    "S"
   ]
  },
  {
   "cell_type": "code",
   "execution_count": null,
   "metadata": {},
   "outputs": [],
   "source": [
    "def todos_valores_vacios(d):\n",
    "    \"\"\"\n",
    "    Función que determina si todos los valores de un diccionario son vacíos o nulos.\n",
    "    \"\"\"\n",
    "    return all(v in ['', None] for v in d.values())\n",
    "\n",
    "# lista de diccionarios\n",
    "lista_diccionarios = [{'nombre': 'Juan', 'edad': 30, 'email': 'juan@gmail.com'},\n",
    "                      {'nombre': 'Maria', 'edad': 50, 'email': ''},\n",
    "                      {'nombre': 'Pedro', 'edad': 25, 'email': None}]\n",
    "\n",
    "#get the sum of all ages in the list of dicts\n",
    "sum([d[\"edad\"] for d in lista_diccionarios])"
   ]
  },
  {
   "cell_type": "code",
   "execution_count": null,
   "metadata": {},
   "outputs": [],
   "source": [
    "from datetime import datetime\n",
    "strd1=\"19/04/2023 13:00:30\"\n",
    "dateObjec1=datetime.strptime(strd1, '%d/%m/%Y %H:%M:%S')\n",
    "strd2=dateObjec1.strftime('%d/%m/%Y')\n",
    "strd2"
   ]
  },
  {
   "cell_type": "code",
   "execution_count": null,
   "metadata": {},
   "outputs": [],
   "source": [
    "# dict example \n",
    "dict1 = {'a': 1, 'b': 2, 'c': 3}\n",
    "\n",
    "#function that evaluates if key exists in dict\n",
    "def key_exists(d, key):\n",
    "    \"\"\"\n",
    "    Función que determina si una llave existe en un diccionario.\n",
    "    \"\"\"\n",
    "    return key in d.keys()\n",
    "a=key_exists(dict1,\"d\")\n",
    "a"
   ]
  },
  {
   "cell_type": "code",
   "execution_count": 19,
   "metadata": {},
   "outputs": [
    {
     "name": "stdout",
     "output_type": "stream",
     "text": [
      "   Nombre Edad Sexo Sexo2\n",
      "0     213  sdf  frg  fgfg\n"
     ]
    }
   ],
   "source": [
    "import pandas as pd\n",
    "\n",
    "# Cargar el DataFrame\n",
    "df = pd.DataFrame([\n",
    "    {'Nombre': 'Juan', 'Edad': 25, 'Sexo': 'M'},\n",
    "    {'Nombre': 'Ana', 'Edad': 30, 'Sexo': 'F'},\n",
    "    {'Nombre': 'Pedro', 'Edad': 45, 'Sexo': 'M'},\n",
    "])  # Coloca tus datos en el DataFrame\n",
    "\n",
    "# Ruta del archivo Excel existente\n",
    "ruta_excel = r'C:\\DanielBots\\bot4\\plantilla.xlsx'\n",
    "ruta_excel2 = r'C:\\DanielBots\\bot4\\plantilla2.xlsx'\n",
    "# Cargar la plantilla Excel con todos los formatos\n",
    "plantilla = pd.read_excel(ruta_excel)\n",
    "print(plantilla)\n",
    "# Escribir el DataFrame en la plantilla Excel\n",
    "plantilla.to_excel(ruta_excel2, index=False,startrow=10,header=False,template)\n",
    "#df.to_excel(ruta_excel2, index=False,startrow=10,header=False)"
   ]
  },
  {
   "cell_type": "code",
   "execution_count": 4,
   "metadata": {},
   "outputs": [
    {
     "name": "stderr",
     "output_type": "stream",
     "text": [
      "C:\\Users\\Daniel\\AppData\\Local\\Temp\\ipykernel_19512\\3490583986.py:11: FutureWarning: Setting the `book` attribute is not part of the public API, usage can give unexpected or corrupted results and will be removed in a future version\n",
      "  writer.book = book\n"
     ]
    }
   ],
   "source": [
    "import pandas as pd\n",
    "from openpyxl import load_workbook\n",
    "\n",
    "# Cargar la plantilla Excel existente\n",
    "ruta_plantilla = r'C:\\DanielBots\\bot4\\plantilla.xlsx'\n",
    "ruta_nuevo_excel = r'C:\\DanielBots\\bot4\\plantilla2.xlsx'\n",
    "\n",
    "# Leer la plantilla Excel\n",
    "book = load_workbook(ruta_plantilla)\n",
    "writer = pd.ExcelWriter(ruta_nuevo_excel, engine='openpyxl')\n",
    "writer.book = book\n",
    "\n",
    "# DataFrame con los datos a agregar\n",
    "df_datos = pd.DataFrame([\n",
    "    {'Nombre': 'Juan', 'Edad': 25, 'Sexo': 'M'},\n",
    "    {'Nombre': 'Ana', 'Edad': 30, 'Sexo': 'F'},\n",
    "    {'Nombre': 'Pedro', 'Edad': 45, 'Sexo': 'M'},\n",
    "    {'Nombre': 'Luisa', 'Edad': 35, 'Sexo': 'F'},\n",
    "])\n",
    "\n",
    "# Escribir el DataFrame en la hoja de la plantilla\n",
    "df_datos.to_excel(writer, sheet_name='Hoja1', index=False, startrow=1, header=False)\n",
    "# Guardar los cambios en el nuevo archivo Excel\n",
    "writer.close()\n"
   ]
  },
  {
   "cell_type": "code",
   "execution_count": 2,
   "metadata": {},
   "outputs": [],
   "source": [
    "writer.close()\n"
   ]
  },
  {
   "cell_type": "code",
   "execution_count": 5,
   "metadata": {},
   "outputs": [
    {
     "data": {
      "text/plain": [
       "[{'Nombre': 'Juan'},\n",
       " {'Nombre': 'Ana'},\n",
       " {'Nombre': 'Pedro'},\n",
       " {'Nombre': 'Luisa'}]"
      ]
     },
     "execution_count": 5,
     "metadata": {},
     "output_type": "execute_result"
    }
   ],
   "source": [
    "table=[\n",
    "    {'Nombre': 'Juan', 'Edad': 25, 'Sexo': 'M'},\n",
    "    {'Nombre': 'Ana', 'Edad': 30, 'Sexo': 'F'},\n",
    "    {'Nombre': 'Pedro', 'Edad': 45, 'Sexo': 'M'},\n",
    "    {'Nombre': 'Luisa', 'Edad': 35, 'Sexo': 'F'},\n",
    "]\n",
    "\n",
    "#obtener la tabla con todos los campos excepto el campo \"Edad\" y \"Sexo\"\n",
    "table2=[{k:v for k,v in d.items() if k not in [\"Edad\",\"Sexo\"]} for d in table]\n",
    "table2\n",
    "\n"
   ]
  },
  {
   "cell_type": "code",
   "execution_count": 6,
   "metadata": {},
   "outputs": [
    {
     "name": "stdout",
     "output_type": "stream",
     "text": [
      "7\n"
     ]
    }
   ],
   "source": [
    "class Contexto:\n",
    "    def __init__(self, estrategia):\n",
    "            self.estrategia = estrategia\n",
    "\n",
    "    def ejecutar_operacion(self, num1, num2):\n",
    "        return self.estrategia.operar(num1, num2)\n",
    "\n",
    "\n",
    "class Estrategia:\n",
    "    def operar(self, num1, num2):\n",
    "        pass\n",
    "\n",
    "\n",
    "class Suma(Estrategia):\n",
    "    def operar(self, num1, num2):\n",
    "        return num1 + num2\n",
    "\n",
    "\n",
    "class Multiplicacion(Estrategia):\n",
    "    def operar(self, num1, num2):\n",
    "        return num1 * num2\n",
    "    \n",
    "# Uso del patrón de diseño estrategia\n",
    "contexto = Contexto(Suma())\n",
    "resultado = contexto.ejecutar_operacion(3, 4)\n",
    "print(resultado)  # Salida: 7"
   ]
  },
  {
   "cell_type": "code",
   "execution_count": 2,
   "metadata": {},
   "outputs": [
    {
     "data": {
      "text/plain": [
       "[{'a': 2, 'b': 2}, {'a': 6, 'b': 4}, {'a': 10, 'b': 6}]"
      ]
     },
     "execution_count": 2,
     "metadata": {},
     "output_type": "execute_result"
    }
   ],
   "source": [
    "#list of dicts example\n",
    "\n",
    "listofDicts=[{\"a\":1,\"b\":2},{\"a\":3,\"b\":4},{\"a\":5,\"b\":6}]\n",
    "\n",
    "#replaces all a values with 7\n",
    "listofDicts=[{**d, \"a\":d[\"a\"]*2} for d in listofDicts]\n",
    "listofDicts"
   ]
  },
  {
   "cell_type": "code",
   "execution_count": 4,
   "metadata": {},
   "outputs": [
    {
     "name": "stdout",
     "output_type": "stream",
     "text": [
      "hola\n"
     ]
    }
   ],
   "source": [
    "q=None\n",
    "if not(q):\n",
    "    print(\"hola\")"
   ]
  },
  {
   "cell_type": "code",
   "execution_count": 10,
   "metadata": {},
   "outputs": [
    {
     "name": "stdout",
     "output_type": "stream",
     "text": [
      "1 2 False\n",
      "1 2 True\n"
     ]
    }
   ],
   "source": [
    "\n",
    "#function with optional parameters\n",
    "\n",
    "def function1(a,b,test=True):\n",
    "    print(a,b,test)\n",
    "  \n",
    "function1(1,2,test=False)\n",
    "function1(1,2)\n",
    "\n"
   ]
  },
  {
   "cell_type": "code",
   "execution_count": null,
   "metadata": {},
   "outputs": [],
   "source": []
  }
 ],
 "metadata": {
  "kernelspec": {
   "display_name": "Python 3.9.12 ('base')",
   "language": "python",
   "name": "python3"
  },
  "language_info": {
   "codemirror_mode": {
    "name": "ipython",
    "version": 3
   },
   "file_extension": ".py",
   "mimetype": "text/x-python",
   "name": "python",
   "nbconvert_exporter": "python",
   "pygments_lexer": "ipython3",
   "version": "3.10.5"
  },
  "orig_nbformat": 4,
  "vscode": {
   "interpreter": {
    "hash": "ad2bdc8ecc057115af97d19610ffacc2b4e99fae6737bb82f5d7fb13d2f2c186"
   }
  }
 },
 "nbformat": 4,
 "nbformat_minor": 2
}
