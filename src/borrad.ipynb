{
 "cells": [
  {
   "cell_type": "code",
   "execution_count": null,
   "metadata": {},
   "outputs": [],
   "source": []
  },
  {
   "cell_type": "code",
   "execution_count": null,
   "metadata": {},
   "outputs": [],
   "source": [
    "from datetime import datetime\n",
    "# set the date locale to spanish\n",
    "import locale\n",
    "locale.setlocale(locale.LC_TIME, '')\n",
    "tday=datetime.today().date().strftime(\"%B %Y\")\n",
    "print(tday)"
   ]
  },
  {
   "cell_type": "code",
   "execution_count": null,
   "metadata": {},
   "outputs": [],
   "source": [
    "import openpyxl\n",
    "wb=openpyxl.load_workbook(\"config.xlsx\")\n",
    "ws=wb[\"Hoja1\"]\n",
    "dinit=ws[\"B2\"].value\n",
    "tday=dinit.strftime(\"%B %Y\")\n",
    "monthdate_obj=datetime.strptime(monthdate,\"%B %Y\")\n",
    "print(dinit,monthdate_obj)\n",
    "print(ws[\"B3\"].value)\n",
    "if monthdate_obj.strftime(\"%B %Y\")==tday:\n",
    "    print(\"same month\")\n",
    "elif monthdate_obj<dinit:\n",
    "    print(\"next month\")\n",
    "    w.find_element(By.CSS_SELECTOR,\"div.datepicker-days th.next\").click()\n",
    "    monthdate=w.find_element(By.CSS_SELECTOR,\"div.datepicker-days th.datepicker-switch\").text\n",
    "elif monthdate_obj>dinit:\n",
    "    print(\"previous month\")\n",
    "    w.find_element(By.CSS_SELECTOR,\"div.datepicker-days th.prev\").click()\n",
    "    monthdate=w.find_element(By.CSS_SELECTOR,\"div.datepicker-days th.datepicker-switch\").text\n",
    "    #\n"
   ]
  },
  {
   "cell_type": "code",
   "execution_count": null,
   "metadata": {},
   "outputs": [],
   "source": [
    "import openpyxl\n",
    "from datetime import datetime\n",
    "import time\n",
    "import locale\n",
    "wb=openpyxl.load_workbook(\"config.xlsx\")\n",
    "ws=wb[\"Hoja1\"]\n",
    "dinit=ws[\"B2\"].value\n",
    "dEnd=ws[\"B3\"].value\n",
    "\n",
    "locale.setlocale(locale.LC_TIME, '')\n",
    "def set_day(dExcel):\n",
    "    \n",
    "    dates=[x for x in w.find_elements(By.CSS_SELECTOR,\"div:nth-child(11) div.datepicker-days tbody td[class='day']\")]\n",
    "\n",
    "    for d in dates:\n",
    "        if d.text==dExcel.strftime(\"%d\"):\n",
    "            d.click()\n",
    "            break\n",
    "def evaluate_month(monthdate_obj,dExcel):\n",
    "    tday=dExcel.strftime(\"%B %Y\")\n",
    "    if monthdate_obj.strftime(\"%B %Y\")==tday:\n",
    "        print(\"same month\")\n",
    "        set_day(dExcel)\n",
    "        return True\n",
    "    elif monthdate_obj<dExcel:\n",
    "        print(\"next month\")\n",
    "        w.find_element(By.CSS_SELECTOR,\"div.datepicker-days th.next\").click()\n",
    "        return False\n",
    "        #monthdate=w.find_element(By.CSS_SELECTOR,\"div.datepicker-days th.datepicker-switch\").text\n",
    "    elif monthdate_obj>dExcel:\n",
    "        print(\"previous month\")\n",
    "        w.find_element(By.CSS_SELECTOR,\"div.datepicker-days th.prev\").click()\n",
    "        return False\n",
    "        #monthdate=w.find_element(By.CSS_SELECTOR,\"div.datepicker-days th.datepicker-switch\").text\n",
    "def found_date(dExcel,cssDate):\n",
    "    w.find_element(By.CSS_SELECTOR,cssDate).click()\n",
    "    if cssDate==\"input#startDate\":\n",
    "        monthdate=w.find_element(By.CSS_SELECTOR,\"div:nth-child(10) div.datepicker-days th.datepicker-switch\").text\n",
    "        monthdate=monthdate.replace(\"Septiembre\",\"Setiembre\")\n",
    "        monthdate_obj=datetime.strptime(monthdate,\"%B %Y\")\n",
    "    elif cssDate==\"input#endDate\":\n",
    "        monthdate=w.find_element(By.CSS_SELECTOR,\"div:nth-child(11) div.datepicker-days th.datepicker-switch\").text\n",
    "        monthdate=monthdate.replace(\"Septiembre\",\"Setiembre\")\n",
    "        print(monthdate)\n",
    "        monthdate_obj=datetime.strptime(monthdate,\"%B %Y\")\n",
    "   \n",
    "    dateNotfound=True\n",
    "    while dateNotfound:\n",
    "        if evaluate_month(monthdate_obj,dExcel):\n",
    "            dateNotfound=False\n",
    "        else:\n",
    "            monthdate=w.find_element(By.CSS_SELECTOR,\"div.datepicker-days th.datepicker-switch\").text\n",
    "            monthdate_obj=datetime.strptime(monthdate,\"%B %Y\")\n",
    "\n",
    "def set_dates(dinit,dEnd):\n",
    "    found_date(dinit,\"input#startDate\")\n",
    "    time.sleep(1)\n",
    "    found_date(dEnd,\"input#endDate\")\n",
    "\n",
    "set_dates(dinit,dEnd)\n",
    "\n"
   ]
  },
  {
   "cell_type": "code",
   "execution_count": null,
   "metadata": {},
   "outputs": [],
   "source": [
    "import pandas as pd\n",
    "from selenium.webdriver.common.by import By\n",
    "table=[]\n",
    "headersTable=[x.text for x in w.find_elements(By.CSS_SELECTOR,\"table#cashierClosings thead th\")]\n",
    "rows=w.find_elements(By.CSS_SELECTOR,\"table#cashierClosings tbody tr\")\n",
    "print(len(rows))\n",
    "for row in rows:\n",
    "    if len(row.find_elements(By.CSS_SELECTOR,\"a\"))==7:\n",
    "        tipe=\"agencia\"\n",
    "    elif len(row.find_elements(By.CSS_SELECTOR,\"a\"))==5:\n",
    "        tipe=\"distribuidora\"\n",
    "    else:\n",
    "        tipe=\"otro\"\n",
    "\n",
    "    if tipe==\"agencia\":\n",
    "        pass\n",
    "    elif tipe==\"distribuidora\":\n",
    "        pass\n",
    "    else:\n",
    "        pass \n",
    "\n",
    "    fields=[y.text for y in row.find_elements(By.CSS_SELECTOR,\"td\")]\n",
    "    rowDict={\n",
    "        headersTable[0]:fields[0],\n",
    "        headersTable[1]:fields[1],\n",
    "        headersTable[2]:fields[2],\n",
    "        headersTable[3]:fields[3],\n",
    "        headersTable[4]:fields[4],\n",
    "        headersTable[5]:fields[5],\n",
    "        headersTable[6]:fields[6],\n",
    "        headersTable[7]:fields[7],\n",
    "        headersTable[8]:fields[8],\n",
    "        headersTable[9]:tipe\n",
    "    }\n",
    "    table.append(rowDict)\n",
    "\n",
    "df=pd.DataFrame(table)\n",
    "df"
   ]
  },
  {
   "cell_type": "code",
   "execution_count": null,
   "metadata": {},
   "outputs": [],
   "source": [
    "rows=w.find_elements(By.CSS_SELECTOR,\"table#cashierClosings tbody tr\")\n",
    "\n",
    "buttons=rows[0][8]\n",
    "excels=rows[8].find_elements(By.CSS_SELECTOR,\"a\")\n",
    "arceoCajaBs=rows[8].find_element(By.CSS_SELECTOR,\"a[data-original-title='Arqueo de Caja Bs. EXCEL']\")\n",
    "arceoCajaBs.click()\n",
    "arceoCajaUs=rows[8].find_element(By.CSS_SELECTOR,\"a[data-original-title='Arqueo de Caja $us. EXCEL']\")\n",
    "firstExcel=rows[8].find_element(By.CSS_SELECTOR,\"a[data-original-title='Descargar EXCEL']\")\n",
    "print(buttons)"
   ]
  },
  {
   "cell_type": "code",
   "execution_count": null,
   "metadata": {},
   "outputs": [],
   "source": [
    "row=w.find_elements(By.CSS_SELECTOR,\"table#cashierClosings tbody tr\")[2]\n",
    "print(len(rows))\n",
    "\n",
    "if len(row.find_elements(By.CSS_SELECTOR,\"a\"))==7:\n",
    "    tipe=\"agencia\"\n",
    "    print(tipe)\n",
    "    arceoCajaBs=row.find_element(By.CSS_SELECTOR,\"a[data-original-title='Arqueo de Caja Bs. EXCEL']\")\n",
    "    arceoCajaBs.click()\n",
    "    arceoCajaUs=row.find_element(By.CSS_SELECTOR,\"a[data-original-title='Arqueo de Caja $us. EXCEL']\")\n",
    "    arceoCajaUs.click()\n",
    "    firstExcel=row.find_element(By.CSS_SELECTOR,\"a[data-original-title='Descargar EXCEL']\")\n",
    "    firstExcel.click()\n",
    "elif len(row.find_elements(By.CSS_SELECTOR,\"a\"))==5:\n",
    "    tipe=\"distribuidora\"\n",
    "    print(tipe)\n",
    "    arceoCajaBs=row.find_element(By.CSS_SELECTOR,\"a[data-original-title='Arqueo de Caja Bs. EXCEL']\")\n",
    "    arceoCajaBs.click()\n",
    "    arceoCajaUs=row.find_element(By.CSS_SELECTOR,\"a[data-original-title='Arqueo de Caja $us. EXCEL']\")\n",
    "    arceoCajaUs.click()\n",
    "else:\n",
    "    tipe=\"otro\"\n",
    "print(tipe)"
   ]
  },
  {
   "cell_type": "code",
   "execution_count": null,
   "metadata": {},
   "outputs": [],
   "source": []
  },
  {
   "cell_type": "code",
   "execution_count": null,
   "metadata": {},
   "outputs": [],
   "source": [
    "\n",
    "print(\"The number of worksheets is {0}\".format(book.nsheets))\n",
    "print(\"Worksheet name(s): {0}\".format(book.sheet_names()))\n",
    "\n",
    "print(\"{0} {1} {2}\".format(sh.name, sh.nrows, sh.ncols))\n",
    "for rx in range(sh.nrows):\n",
    "    print(sh.row(rx))"
   ]
  },
  {
   "cell_type": "code",
   "execution_count": null,
   "metadata": {},
   "outputs": [],
   "source": [
    "import xlrd\n",
    "book = xlrd.open_workbook(r\"C:\\DanielBots\\bot4\\descargas\\52795_arceoCajaBs.xls\")\n",
    "sh = book.sheet_by_index(0)\n",
    "sh.cell_value(rowx=0, colx=0)\n"
   ]
  },
  {
   "cell_type": "code",
   "execution_count": 3,
   "metadata": {},
   "outputs": [
    {
     "name": "stdout",
     "output_type": "stream",
     "text": [
      "GeeksforGeeks\n"
     ]
    }
   ],
   "source": [
    "from PIL import Image\n",
    "from pytesseract import pytesseract\n",
    "\n",
    "# Defining paths to tesseract.exe\n",
    "# and the image we would be using\n",
    "path_to_tesseract = r\"C:\\Program Files\\Tesseract-OCR\\tesseract.exe\"\n",
    "image_path = r\"C:\\DanielBots\\bot4\\im2.jpg\"\n",
    "\n",
    "# Opening the image & storing it in an image object\n",
    "img = Image.open(image_path)\n",
    "\n",
    "# Providing the tesseract executable\n",
    "# location to pytesseract library\n",
    "pytesseract.tesseract_cmd = path_to_tesseract\n",
    "\n",
    "# Passing the image object to image_to_string() function\n",
    "# This function will extract the text from the image\n",
    "text = pytesseract.image_to_string(img)\n",
    "\n",
    "# Displaying the extracted text\n",
    "print(text[:-1])\n"
   ]
  },
  {
   "cell_type": "code",
   "execution_count": 5,
   "metadata": {},
   "outputs": [
    {
     "name": "stdout",
     "output_type": "stream",
     "text": [
      "\n"
     ]
    }
   ],
   "source": [
    "import cv2\n",
    "import numpy as np\n",
    "import pytesseract\n",
    "\n",
    "file = r'C:\\DanielBots\\bot4\\captcha1.png'\n",
    "img = cv2.imread(file)\n",
    "gray = cv2.cvtColor(img, cv2.COLOR_BGR2GRAY)\n",
    "ekernel = np.ones((1,2),np.uint8)\n",
    "eroded = cv2.erode(gray, ekernel, iterations = 1)\n",
    "dkernel = np.ones((2,3),np.uint8)\n",
    "dilated_once = cv2.dilate(eroded, dkernel, iterations = 1)\n",
    "ekernel = np.ones((2,2),np.uint8)\n",
    "dilated_twice = cv2.erode(dilated_once, ekernel, iterations = 1)\n",
    "th, threshed = cv2.threshold(dilated_twice, 200, 255, cv2.THRESH_BINARY)\n",
    "dkernel = np.ones((2,2),np.uint8)\n",
    "threshed_dilated = cv2.dilate(threshed, dkernel, iterations = 1)\n",
    "ekernel = np.ones((2,2),np.uint8)\n",
    "threshed_eroded = cv2.erode(threshed_dilated, ekernel, iterations = 1)\n",
    "text = pytesseract.image_to_string(threshed_eroded)\n",
    "print(text)"
   ]
  },
  {
   "cell_type": "code",
   "execution_count": 2,
   "metadata": {},
   "outputs": [
    {
     "ename": "",
     "evalue": "",
     "output_type": "error",
     "traceback": [
      "\u001b[1;31mEl Kernel se bloqueó al ejecutar código en la celda actual o en una celda anterior. Revise el código de las celdas para identificar una posible causa del error. Haga clic <a href='https://aka.ms/vscodeJupyterKernelCrash'>aquí</a> para obtener más información. Vea el [registro] de Jupyter (command:jupyter.viewOutput) para obtener más detalles."
     ]
    }
   ],
   "source": [
    "import cv2\n",
    "import numpy as np\n",
    "import pytesseract\n",
    "\n",
    "file = r'C:\\DanielBots\\bot4\\captcha1.png'\n",
    "img = cv2.imread(file)\n",
    "cv2.imshow('img', img)"
   ]
  },
  {
   "cell_type": "code",
   "execution_count": null,
   "metadata": {},
   "outputs": [],
   "source": []
  }
 ],
 "metadata": {
  "kernelspec": {
   "display_name": "Python 3.9.12 ('base')",
   "language": "python",
   "name": "python3"
  },
  "language_info": {
   "codemirror_mode": {
    "name": "ipython",
    "version": 3
   },
   "file_extension": ".py",
   "mimetype": "text/x-python",
   "name": "python",
   "nbconvert_exporter": "python",
   "pygments_lexer": "ipython3",
   "version": "3.9.12"
  },
  "orig_nbformat": 4,
  "vscode": {
   "interpreter": {
    "hash": "ad2bdc8ecc057115af97d19610ffacc2b4e99fae6737bb82f5d7fb13d2f2c186"
   }
  }
 },
 "nbformat": 4,
 "nbformat_minor": 2
}
