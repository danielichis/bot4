{
 "cells": [
  {
   "cell_type": "code",
   "execution_count": null,
   "metadata": {},
   "outputs": [],
   "source": [
    "from selenium import webdriver\n",
    "w=webdriver.Chrome(\"chromedriver.exe\")\n",
    "w.get('http://sgv.grupo-venado.com/venado/login.jsf')\n"
   ]
  },
  {
   "cell_type": "code",
   "execution_count": null,
   "metadata": {},
   "outputs": [],
   "source": []
  },
  {
   "cell_type": "code",
   "execution_count": null,
   "metadata": {},
   "outputs": [],
   "source": [
    "dates=[x.text for x in w.find_elements(By.CSS_SELECTOR,\"div.datepicker-days tbody td[class='day']\")]\n",
    "print(len(dates))\n",
    "print(dates)\n",
    "\n",
    "#dates"
   ]
  },
  {
   "cell_type": "code",
   "execution_count": null,
   "metadata": {},
   "outputs": [],
   "source": [
    "\n",
    "monthdate=w.find_element(By.CSS_SELECTOR,\"div.datepicker-days th.datepicker-switch\").text\n"
   ]
  },
  {
   "cell_type": "code",
   "execution_count": null,
   "metadata": {},
   "outputs": [],
   "source": [
    "from datetime import datetime\n",
    "# set the date locale to spanish\n",
    "import locale\n",
    "locale.setlocale(locale.LC_TIME, '')\n",
    "tday=datetime.today().date().strftime(\"%B %Y\")\n",
    "print(tday)"
   ]
  },
  {
   "cell_type": "code",
   "execution_count": null,
   "metadata": {},
   "outputs": [],
   "source": [
    "import openpyxl\n",
    "wb=openpyxl.load_workbook(\"config.xlsx\")\n",
    "ws=wb[\"Hoja1\"]\n",
    "dinit=ws[\"B2\"].value\n",
    "tday=dinit.strftime(\"%B %Y\")\n",
    "monthdate_obj=datetime.strptime(monthdate,\"%B %Y\")\n",
    "print(dinit,monthdate_obj)\n",
    "print(ws[\"B3\"].value)\n",
    "if monthdate_obj.strftime(\"%B %Y\")==tday:\n",
    "    print(\"same month\")\n",
    "elif monthdate_obj<dinit:\n",
    "    print(\"next month\")\n",
    "    w.find_element(By.CSS_SELECTOR,\"div.datepicker-days th.next\").click()\n",
    "    monthdate=w.find_element(By.CSS_SELECTOR,\"div.datepicker-days th.datepicker-switch\").text\n",
    "elif monthdate_obj>dinit:\n",
    "    print(\"previous month\")\n",
    "    w.find_element(By.CSS_SELECTOR,\"div.datepicker-days th.prev\").click()\n",
    "    monthdate=w.find_element(By.CSS_SELECTOR,\"div.datepicker-days th.datepicker-switch\").text\n",
    "    #\n"
   ]
  },
  {
   "cell_type": "code",
   "execution_count": null,
   "metadata": {},
   "outputs": [],
   "source": [
    "import openpyxl\n",
    "from datetime import datetime\n",
    "import time\n",
    "import locale\n",
    "wb=openpyxl.load_workbook(\"config.xlsx\")\n",
    "ws=wb[\"Hoja1\"]\n",
    "dinit=ws[\"B2\"].value\n",
    "dEnd=ws[\"B3\"].value\n",
    "\n",
    "locale.setlocale(locale.LC_TIME, '')\n",
    "def set_day(dExcel):\n",
    "    \n",
    "    dates=[x for x in w.find_elements(By.CSS_SELECTOR,\"div:nth-child(11) div.datepicker-days tbody td[class='day']\")]\n",
    "\n",
    "    for d in dates:\n",
    "        if d.text==dExcel.strftime(\"%d\"):\n",
    "            d.click()\n",
    "            break\n",
    "def evaluate_month(monthdate_obj,dExcel):\n",
    "    tday=dExcel.strftime(\"%B %Y\")\n",
    "    if monthdate_obj.strftime(\"%B %Y\")==tday:\n",
    "        print(\"same month\")\n",
    "        set_day(dExcel)\n",
    "        return True\n",
    "    elif monthdate_obj<dExcel:\n",
    "        print(\"next month\")\n",
    "        w.find_element(By.CSS_SELECTOR,\"div.datepicker-days th.next\").click()\n",
    "        return False\n",
    "        #monthdate=w.find_element(By.CSS_SELECTOR,\"div.datepicker-days th.datepicker-switch\").text\n",
    "    elif monthdate_obj>dExcel:\n",
    "        print(\"previous month\")\n",
    "        w.find_element(By.CSS_SELECTOR,\"div.datepicker-days th.prev\").click()\n",
    "        return False\n",
    "        #monthdate=w.find_element(By.CSS_SELECTOR,\"div.datepicker-days th.datepicker-switch\").text\n",
    "def found_date(dExcel,cssDate):\n",
    "    w.find_element(By.CSS_SELECTOR,cssDate).click()\n",
    "    if cssDate==\"input#startDate\":\n",
    "        monthdate=w.find_element(By.CSS_SELECTOR,\"div:nth-child(10) div.datepicker-days th.datepicker-switch\").text\n",
    "        monthdate=monthdate.replace(\"Septiembre\",\"Setiembre\")\n",
    "        monthdate_obj=datetime.strptime(monthdate,\"%B %Y\")\n",
    "    elif cssDate==\"input#endDate\":\n",
    "        monthdate=w.find_element(By.CSS_SELECTOR,\"div:nth-child(11) div.datepicker-days th.datepicker-switch\").text\n",
    "        monthdate=monthdate.replace(\"Septiembre\",\"Setiembre\")\n",
    "        print(monthdate)\n",
    "        monthdate_obj=datetime.strptime(monthdate,\"%B %Y\")\n",
    "   \n",
    "    dateNotfound=True\n",
    "    while dateNotfound:\n",
    "        if evaluate_month(monthdate_obj,dExcel):\n",
    "            dateNotfound=False\n",
    "        else:\n",
    "            monthdate=w.find_element(By.CSS_SELECTOR,\"div.datepicker-days th.datepicker-switch\").text\n",
    "            monthdate_obj=datetime.strptime(monthdate,\"%B %Y\")\n",
    "\n",
    "def set_dates(dinit,dEnd):\n",
    "    found_date(dinit,\"input#startDate\")\n",
    "    time.sleep(1)\n",
    "    found_date(dEnd,\"input#endDate\")\n",
    "\n",
    "set_dates(dinit,dEnd)\n",
    "\n"
   ]
  },
  {
   "cell_type": "code",
   "execution_count": null,
   "metadata": {},
   "outputs": [],
   "source": [
    "import pandas as pd\n",
    "from selenium.webdriver.common.by import By\n",
    "table=[]\n",
    "headersTable=[x.text for x in w.find_elements(By.CSS_SELECTOR,\"table#cashierClosings thead th\")]\n",
    "rows=w.find_elements(By.CSS_SELECTOR,\"table#cashierClosings tbody tr\")\n",
    "print(len(rows))\n",
    "for row in rows:\n",
    "    if len(row.find_elements(By.CSS_SELECTOR,\"a\"))==7:\n",
    "        tipe=\"agencia\"\n",
    "    elif len(row.find_elements(By.CSS_SELECTOR,\"a\"))==5:\n",
    "        tipe=\"distribuidora\"\n",
    "    else:\n",
    "        tipe=\"otro\"\n",
    "\n",
    "    if tipe==\"agencia\":\n",
    "        pass\n",
    "    elif tipe==\"distribuidora\":\n",
    "        pass\n",
    "    else:\n",
    "        pass \n",
    "\n",
    "    fields=[y.text for y in row.find_elements(By.CSS_SELECTOR,\"td\")]\n",
    "    rowDict={\n",
    "        headersTable[0]:fields[0],\n",
    "        headersTable[1]:fields[1],\n",
    "        headersTable[2]:fields[2],\n",
    "        headersTable[3]:fields[3],\n",
    "        headersTable[4]:fields[4],\n",
    "        headersTable[5]:fields[5],\n",
    "        headersTable[6]:fields[6],\n",
    "        headersTable[7]:fields[7],\n",
    "        headersTable[8]:fields[8],\n",
    "        headersTable[9]:tipe\n",
    "    }\n",
    "    table.append(rowDict)\n",
    "\n",
    "df=pd.DataFrame(table)\n",
    "df"
   ]
  },
  {
   "cell_type": "code",
   "execution_count": null,
   "metadata": {},
   "outputs": [],
   "source": [
    "rows=w.find_elements(By.CSS_SELECTOR,\"table#cashierClosings tbody tr\")\n",
    "\n",
    "buttons=rows[0][8]\n",
    "excels=rows[8].find_elements(By.CSS_SELECTOR,\"a\")\n",
    "arceoCajaBs=rows[8].find_element(By.CSS_SELECTOR,\"a[data-original-title='Arqueo de Caja Bs. EXCEL']\")\n",
    "arceoCajaBs.click()\n",
    "arceoCajaUs=rows[8].find_element(By.CSS_SELECTOR,\"a[data-original-title='Arqueo de Caja $us. EXCEL']\")\n",
    "firstExcel=rows[8].find_element(By.CSS_SELECTOR,\"a[data-original-title='Descargar EXCEL']\")\n",
    "print(buttons)"
   ]
  },
  {
   "cell_type": "code",
   "execution_count": 28,
   "metadata": {},
   "outputs": [
    {
     "name": "stdout",
     "output_type": "stream",
     "text": [
      "10\n",
      "agencia\n",
      "agencia\n"
     ]
    }
   ],
   "source": [
    "row=w.find_elements(By.CSS_SELECTOR,\"table#cashierClosings tbody tr\")[2]\n",
    "print(len(rows))\n",
    "\n",
    "if len(row.find_elements(By.CSS_SELECTOR,\"a\"))==7:\n",
    "    tipe=\"agencia\"\n",
    "    print(tipe)\n",
    "    arceoCajaBs=row.find_element(By.CSS_SELECTOR,\"a[data-original-title='Arqueo de Caja Bs. EXCEL']\")\n",
    "    arceoCajaBs.click()\n",
    "    arceoCajaUs=row.find_element(By.CSS_SELECTOR,\"a[data-original-title='Arqueo de Caja $us. EXCEL']\")\n",
    "    arceoCajaUs.click()\n",
    "    firstExcel=row.find_element(By.CSS_SELECTOR,\"a[data-original-title='Descargar EXCEL']\")\n",
    "    firstExcel.click()\n",
    "elif len(row.find_elements(By.CSS_SELECTOR,\"a\"))==5:\n",
    "    tipe=\"distribuidora\"\n",
    "    print(tipe)\n",
    "    arceoCajaBs=row.find_element(By.CSS_SELECTOR,\"a[data-original-title='Arqueo de Caja Bs. EXCEL']\")\n",
    "    arceoCajaBs.click()\n",
    "    arceoCajaUs=row.find_element(By.CSS_SELECTOR,\"a[data-original-title='Arqueo de Caja $us. EXCEL']\")\n",
    "    arceoCajaUs.click()\n",
    "else:\n",
    "    tipe=\"otro\"\n",
    "print(tipe)"
   ]
  },
  {
   "cell_type": "code",
   "execution_count": null,
   "metadata": {},
   "outputs": [],
   "source": [
    "import openpyxl\n",
    "\n",
    "wb=openpyxl.load_workbook(\"cashierclosing_watch_report.xls\")"
   ]
  },
  {
   "cell_type": "code",
   "execution_count": null,
   "metadata": {},
   "outputs": [],
   "source": [
    "import xlrd\n",
    "book = xlrd.open_workbook(r\"C:\\DanielBots\\bot4\\cashierclosing_watch_report.xls\")\n",
    "print(\"The number of worksheets is {0}\".format(book.nsheets))\n",
    "print(\"Worksheet name(s): {0}\".format(book.sheet_names()))\n",
    "sh = book.sheet_by_index(0)\n",
    "print(\"{0} {1} {2}\".format(sh.name, sh.nrows, sh.ncols))\n",
    "for rx in range(sh.nrows):\n",
    "    print(sh.row(rx))"
   ]
  },
  {
   "cell_type": "code",
   "execution_count": 31,
   "metadata": {},
   "outputs": [
    {
     "name": "stdout",
     "output_type": "stream",
     "text": [
      "c:\\DanielBots\\bot4\n"
     ]
    }
   ],
   "source": [
    "import os\n",
    "#import Path\n",
    "from pathlib import Path\n",
    "currentPath = os.getcwd()\n",
    "folderParent=Path(currentPath).parent\n",
    "print(folderParent)\n"
   ]
  },
  {
   "cell_type": "code",
   "execution_count": null,
   "metadata": {},
   "outputs": [],
   "source": []
  }
 ],
 "metadata": {
  "kernelspec": {
   "display_name": "Python 3.10.5 64-bit",
   "language": "python",
   "name": "python3"
  },
  "language_info": {
   "codemirror_mode": {
    "name": "ipython",
    "version": 3
   },
   "file_extension": ".py",
   "mimetype": "text/x-python",
   "name": "python",
   "nbconvert_exporter": "python",
   "pygments_lexer": "ipython3",
   "version": "3.10.5"
  },
  "orig_nbformat": 4,
  "vscode": {
   "interpreter": {
    "hash": "369f2c481f4da34e4445cda3fffd2e751bd1c4d706f27375911949ba6bb62e1c"
   }
  }
 },
 "nbformat": 4,
 "nbformat_minor": 2
}
